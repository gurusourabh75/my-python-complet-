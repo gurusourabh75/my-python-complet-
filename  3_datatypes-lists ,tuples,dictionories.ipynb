{
 "cells": [
  {
   "cell_type": "code",
   "execution_count": 59,
   "id": "45981f43",
   "metadata": {},
   "outputs": [],
   "source": [
    "x=[1,2,3,\"python\",\"c++\",\"java\"]"
   ]
  },
  {
   "cell_type": "code",
   "execution_count": 40,
   "id": "05c6e6bc",
   "metadata": {},
   "outputs": [
    {
     "data": {
      "text/plain": [
       "list"
      ]
     },
     "execution_count": 40,
     "metadata": {},
     "output_type": "execute_result"
    }
   ],
   "source": [
    "type(x)"
   ]
  },
  {
   "cell_type": "markdown",
   "id": "6483391b",
   "metadata": {},
   "source": [
    "# slicing and indexing in lists\n",
    "- syntexx.[ : ]"
   ]
  },
  {
   "cell_type": "code",
   "execution_count": 41,
   "id": "e674d133",
   "metadata": {},
   "outputs": [
    {
     "data": {
      "text/plain": [
       "1"
      ]
     },
     "execution_count": 41,
     "metadata": {},
     "output_type": "execute_result"
    }
   ],
   "source": [
    "x[0]"
   ]
  },
  {
   "cell_type": "code",
   "execution_count": 42,
   "id": "b795912a",
   "metadata": {},
   "outputs": [
    {
     "data": {
      "text/plain": [
       "[1, 2, 3]"
      ]
     },
     "execution_count": 42,
     "metadata": {},
     "output_type": "execute_result"
    }
   ],
   "source": [
    "x[ : 3]"
   ]
  },
  {
   "cell_type": "markdown",
   "id": "1133414e",
   "metadata": {},
   "source": [
    "- when you need any editor press variable . tab"
   ]
  },
  {
   "cell_type": "markdown",
   "id": "843d76f9",
   "metadata": {},
   "source": [
    "- append\n",
    "- extand\n",
    "- pop\n",
    "- sort\n",
    "- clear\n",
    "- count\n",
    "- insert\n",
    "\n",
    "\n",
    "- all this methods are only in inmutable ,where in mutable you cant even change "
   ]
  },
  {
   "cell_type": "markdown",
   "id": "398f27d4",
   "metadata": {},
   "source": [
    "# append"
   ]
  },
  {
   "cell_type": "markdown",
   "id": "c9ae0a70",
   "metadata": {},
   "source": [
    "- is nothing but trying to add something inside a list which is already present \n",
    "- ypu can't add multi in a sigle time "
   ]
  },
  {
   "cell_type": "markdown",
   "id": "141e6791",
   "metadata": {},
   "source": [
    "- A call to .append() will place new items in the available space. Lists are sequences that can hold different data types and Python objects, so you can use .append() to add any object to a given list. In this example, you first add an integer number, then a string, and finally a floating-point number."
   ]
  },
  {
   "cell_type": "code",
   "execution_count": 63,
   "id": "0861a5af",
   "metadata": {},
   "outputs": [],
   "source": [
    "x.append(\"c+\")"
   ]
  },
  {
   "cell_type": "code",
   "execution_count": 64,
   "id": "455047e1",
   "metadata": {},
   "outputs": [
    {
     "data": {
      "text/plain": [
       "[1, 2, 3, 'python', 'c++', 'rstudio', 'java', 'c+']"
      ]
     },
     "execution_count": 64,
     "metadata": {},
     "output_type": "execute_result"
    }
   ],
   "source": [
    "x"
   ]
  },
  {
   "cell_type": "markdown",
   "id": "ea10e32c",
   "metadata": {},
   "source": [
    "# insert"
   ]
  },
  {
   "cell_type": "code",
   "execution_count": 65,
   "id": "c6112b3d",
   "metadata": {},
   "outputs": [],
   "source": [
    "x.insert(0,0)"
   ]
  },
  {
   "cell_type": "code",
   "execution_count": 66,
   "id": "e6245c11",
   "metadata": {},
   "outputs": [
    {
     "data": {
      "text/plain": [
       "[0, 1, 2, 3, 'python', 'c++', 'rstudio', 'java', 'c+']"
      ]
     },
     "execution_count": 66,
     "metadata": {},
     "output_type": "execute_result"
    }
   ],
   "source": [
    "x"
   ]
  },
  {
   "cell_type": "code",
   "execution_count": 67,
   "id": "ee8a88f3",
   "metadata": {},
   "outputs": [],
   "source": [
    "x.insert(-1,\"rstudio\")"
   ]
  },
  {
   "cell_type": "code",
   "execution_count": 68,
   "id": "718d0cd9",
   "metadata": {},
   "outputs": [
    {
     "data": {
      "text/plain": [
       "[0, 1, 2, 3, 'python', 'c++', 'rstudio', 'java', 'rstudio', 'c+']"
      ]
     },
     "execution_count": 68,
     "metadata": {},
     "output_type": "execute_result"
    }
   ],
   "source": [
    "x"
   ]
  },
  {
   "cell_type": "code",
   "execution_count": 69,
   "id": "0eca5825",
   "metadata": {},
   "outputs": [
    {
     "data": {
      "text/plain": [
       "9"
      ]
     },
     "execution_count": 69,
     "metadata": {},
     "output_type": "execute_result"
    }
   ],
   "source": [
    "x.index(\"c+\")"
   ]
  },
  {
   "cell_type": "code",
   "execution_count": 70,
   "id": "4c9d3778",
   "metadata": {},
   "outputs": [],
   "source": [
    "x.insert(9,\"jupiterlabs\")"
   ]
  },
  {
   "cell_type": "code",
   "execution_count": 71,
   "id": "af4503d2",
   "metadata": {},
   "outputs": [
    {
     "data": {
      "text/plain": [
       "[0,\n",
       " 1,\n",
       " 2,\n",
       " 3,\n",
       " 'python',\n",
       " 'c++',\n",
       " 'rstudio',\n",
       " 'java',\n",
       " 'rstudio',\n",
       " 'jupiterlabs',\n",
       " 'c+']"
      ]
     },
     "execution_count": 71,
     "metadata": {},
     "output_type": "execute_result"
    }
   ],
   "source": [
    "x\n"
   ]
  },
  {
   "cell_type": "code",
   "execution_count": 29,
   "id": "5a27a83f",
   "metadata": {},
   "outputs": [
    {
     "name": "stdout",
     "output_type": "stream",
     "text": [
      "Help on class list in module builtins:\n",
      "\n",
      "class list(object)\n",
      " |  list(iterable=(), /)\n",
      " |  \n",
      " |  Built-in mutable sequence.\n",
      " |  \n",
      " |  If no argument is given, the constructor creates a new empty list.\n",
      " |  The argument must be an iterable if specified.\n",
      " |  \n",
      " |  Methods defined here:\n",
      " |  \n",
      " |  __add__(self, value, /)\n",
      " |      Return self+value.\n",
      " |  \n",
      " |  __contains__(self, key, /)\n",
      " |      Return key in self.\n",
      " |  \n",
      " |  __delitem__(self, key, /)\n",
      " |      Delete self[key].\n",
      " |  \n",
      " |  __eq__(self, value, /)\n",
      " |      Return self==value.\n",
      " |  \n",
      " |  __ge__(self, value, /)\n",
      " |      Return self>=value.\n",
      " |  \n",
      " |  __getattribute__(self, name, /)\n",
      " |      Return getattr(self, name).\n",
      " |  \n",
      " |  __getitem__(...)\n",
      " |      x.__getitem__(y) <==> x[y]\n",
      " |  \n",
      " |  __gt__(self, value, /)\n",
      " |      Return self>value.\n",
      " |  \n",
      " |  __iadd__(self, value, /)\n",
      " |      Implement self+=value.\n",
      " |  \n",
      " |  __imul__(self, value, /)\n",
      " |      Implement self*=value.\n",
      " |  \n",
      " |  __init__(self, /, *args, **kwargs)\n",
      " |      Initialize self.  See help(type(self)) for accurate signature.\n",
      " |  \n",
      " |  __iter__(self, /)\n",
      " |      Implement iter(self).\n",
      " |  \n",
      " |  __le__(self, value, /)\n",
      " |      Return self<=value.\n",
      " |  \n",
      " |  __len__(self, /)\n",
      " |      Return len(self).\n",
      " |  \n",
      " |  __lt__(self, value, /)\n",
      " |      Return self<value.\n",
      " |  \n",
      " |  __mul__(self, value, /)\n",
      " |      Return self*value.\n",
      " |  \n",
      " |  __ne__(self, value, /)\n",
      " |      Return self!=value.\n",
      " |  \n",
      " |  __repr__(self, /)\n",
      " |      Return repr(self).\n",
      " |  \n",
      " |  __reversed__(self, /)\n",
      " |      Return a reverse iterator over the list.\n",
      " |  \n",
      " |  __rmul__(self, value, /)\n",
      " |      Return value*self.\n",
      " |  \n",
      " |  __setitem__(self, key, value, /)\n",
      " |      Set self[key] to value.\n",
      " |  \n",
      " |  __sizeof__(self, /)\n",
      " |      Return the size of the list in memory, in bytes.\n",
      " |  \n",
      " |  append(self, object, /)\n",
      " |      Append object to the end of the list.\n",
      " |  \n",
      " |  clear(self, /)\n",
      " |      Remove all items from list.\n",
      " |  \n",
      " |  copy(self, /)\n",
      " |      Return a shallow copy of the list.\n",
      " |  \n",
      " |  count(self, value, /)\n",
      " |      Return number of occurrences of value.\n",
      " |  \n",
      " |  extend(self, iterable, /)\n",
      " |      Extend list by appending elements from the iterable.\n",
      " |  \n",
      " |  index(self, value, start=0, stop=9223372036854775807, /)\n",
      " |      Return first index of value.\n",
      " |      \n",
      " |      Raises ValueError if the value is not present.\n",
      " |  \n",
      " |  insert(self, index, object, /)\n",
      " |      Insert object before index.\n",
      " |  \n",
      " |  pop(self, index=-1, /)\n",
      " |      Remove and return item at index (default last).\n",
      " |      \n",
      " |      Raises IndexError if list is empty or index is out of range.\n",
      " |  \n",
      " |  remove(self, value, /)\n",
      " |      Remove first occurrence of value.\n",
      " |      \n",
      " |      Raises ValueError if the value is not present.\n",
      " |  \n",
      " |  reverse(self, /)\n",
      " |      Reverse *IN PLACE*.\n",
      " |  \n",
      " |  sort(self, /, *, key=None, reverse=False)\n",
      " |      Sort the list in ascending order and return None.\n",
      " |      \n",
      " |      The sort is in-place (i.e. the list itself is modified) and stable (i.e. the\n",
      " |      order of two equal elements is maintained).\n",
      " |      \n",
      " |      If a key function is given, apply it once to each list item and sort them,\n",
      " |      ascending or descending, according to their function values.\n",
      " |      \n",
      " |      The reverse flag can be set to sort in descending order.\n",
      " |  \n",
      " |  ----------------------------------------------------------------------\n",
      " |  Class methods defined here:\n",
      " |  \n",
      " |  __class_getitem__(...) from builtins.type\n",
      " |      See PEP 585\n",
      " |  \n",
      " |  ----------------------------------------------------------------------\n",
      " |  Static methods defined here:\n",
      " |  \n",
      " |  __new__(*args, **kwargs) from builtins.type\n",
      " |      Create and return a new object.  See help(type) for accurate signature.\n",
      " |  \n",
      " |  ----------------------------------------------------------------------\n",
      " |  Data and other attributes defined here:\n",
      " |  \n",
      " |  __hash__ = None\n",
      "\n"
     ]
    }
   ],
   "source": [
    "help(list)"
   ]
  },
  {
   "cell_type": "markdown",
   "id": "d9b73f15",
   "metadata": {},
   "source": [
    "# Remove"
   ]
  },
  {
   "cell_type": "markdown",
   "id": "1b6e8d6f",
   "metadata": {},
   "source": [
    "- remove the value based on value "
   ]
  },
  {
   "cell_type": "code",
   "execution_count": 52,
   "id": "ebf36603",
   "metadata": {},
   "outputs": [
    {
     "name": "stdout",
     "output_type": "stream",
     "text": [
      "Help on method_descriptor:\n",
      "\n",
      "remove(self, value, /)\n",
      "    Remove first occurrence of value.\n",
      "    \n",
      "    Raises ValueError if the value is not present.\n",
      "\n"
     ]
    }
   ],
   "source": [
    "help(list.remove)"
   ]
  },
  {
   "cell_type": "code",
   "execution_count": 72,
   "id": "2cc76d36",
   "metadata": {},
   "outputs": [
    {
     "data": {
      "text/plain": [
       "[0,\n",
       " 1,\n",
       " 2,\n",
       " 3,\n",
       " 'python',\n",
       " 'c++',\n",
       " 'rstudio',\n",
       " 'java',\n",
       " 'rstudio',\n",
       " 'jupiterlabs',\n",
       " 'c+']"
      ]
     },
     "execution_count": 72,
     "metadata": {},
     "output_type": "execute_result"
    }
   ],
   "source": [
    "x"
   ]
  },
  {
   "cell_type": "code",
   "execution_count": 73,
   "id": "fba6e117",
   "metadata": {},
   "outputs": [],
   "source": [
    "x.remove(\"rstudio\")"
   ]
  },
  {
   "cell_type": "code",
   "execution_count": 74,
   "id": "76c8e42d",
   "metadata": {},
   "outputs": [
    {
     "data": {
      "text/plain": [
       "[0, 1, 2, 3, 'python', 'c++', 'java', 'rstudio', 'jupiterlabs', 'c+']"
      ]
     },
     "execution_count": 74,
     "metadata": {},
     "output_type": "execute_result"
    }
   ],
   "source": [
    "x"
   ]
  },
  {
   "cell_type": "markdown",
   "id": "70ab504c",
   "metadata": {},
   "source": [
    "- x.remove() it will remove the valu from the starting point of given data"
   ]
  },
  {
   "cell_type": "markdown",
   "id": "02a66894",
   "metadata": {},
   "source": [
    "- to remove multi words we have write a loop for that "
   ]
  },
  {
   "cell_type": "markdown",
   "id": "a0ccfaeb",
   "metadata": {},
   "source": [
    "# POP\n",
    "- List pop in Python is a pre-defined, in-built function that removes an item at the specified index from the list. You can also use pop in Python without mentioning the index value. In such cases, the pop() function will remove the last element of the list."
   ]
  },
  {
   "cell_type": "code",
   "execution_count": 75,
   "id": "5498ca62",
   "metadata": {},
   "outputs": [
    {
     "data": {
      "text/plain": [
       "[0, 1, 2, 3, 'python', 'c++', 'java', 'rstudio', 'jupiterlabs', 'c+']"
      ]
     },
     "execution_count": 75,
     "metadata": {},
     "output_type": "execute_result"
    }
   ],
   "source": [
    "x"
   ]
  },
  {
   "cell_type": "code",
   "execution_count": 76,
   "id": "52ee8173",
   "metadata": {},
   "outputs": [
    {
     "data": {
      "text/plain": [
       "'c+'"
      ]
     },
     "execution_count": 76,
     "metadata": {},
     "output_type": "execute_result"
    }
   ],
   "source": [
    "x.pop()"
   ]
  },
  {
   "cell_type": "code",
   "execution_count": 77,
   "id": "dd11b20c",
   "metadata": {},
   "outputs": [
    {
     "data": {
      "text/plain": [
       "'rstudio'"
      ]
     },
     "execution_count": 77,
     "metadata": {},
     "output_type": "execute_result"
    }
   ],
   "source": [
    "x.pop(7)"
   ]
  },
  {
   "cell_type": "code",
   "execution_count": 78,
   "id": "e6283495",
   "metadata": {},
   "outputs": [
    {
     "data": {
      "text/plain": [
       "[0, 1, 2, 3, 'python', 'c++', 'java', 'jupiterlabs']"
      ]
     },
     "execution_count": 78,
     "metadata": {},
     "output_type": "execute_result"
    }
   ],
   "source": [
    "x"
   ]
  },
  {
   "cell_type": "code",
   "execution_count": 79,
   "id": "ff3242e1",
   "metadata": {},
   "outputs": [],
   "source": [
    "del x[0]"
   ]
  },
  {
   "cell_type": "code",
   "execution_count": 80,
   "id": "0adf5684",
   "metadata": {},
   "outputs": [
    {
     "data": {
      "text/plain": [
       "[1, 2, 3, 'python', 'c++', 'java', 'jupiterlabs']"
      ]
     },
     "execution_count": 80,
     "metadata": {},
     "output_type": "execute_result"
    }
   ],
   "source": [
    "x"
   ]
  },
  {
   "cell_type": "code",
   "execution_count": 81,
   "id": "7d592a5e",
   "metadata": {},
   "outputs": [],
   "source": [
    "del x[0:3]"
   ]
  },
  {
   "cell_type": "code",
   "execution_count": 82,
   "id": "34287b1a",
   "metadata": {},
   "outputs": [
    {
     "data": {
      "text/plain": [
       "['python', 'c++', 'java', 'jupiterlabs']"
      ]
     },
     "execution_count": 82,
     "metadata": {},
     "output_type": "execute_result"
    }
   ],
   "source": [
    "x"
   ]
  },
  {
   "cell_type": "code",
   "execution_count": 83,
   "id": "bb2d1a23",
   "metadata": {},
   "outputs": [],
   "source": [
    "num_list=[1,2,3,4]"
   ]
  },
  {
   "cell_type": "code",
   "execution_count": 84,
   "id": "867c09bb",
   "metadata": {},
   "outputs": [],
   "source": [
    "x.append(num_list)"
   ]
  },
  {
   "cell_type": "code",
   "execution_count": 85,
   "id": "78994e82",
   "metadata": {},
   "outputs": [
    {
     "data": {
      "text/plain": [
       "['python', 'c++', 'java', 'jupiterlabs', [1, 2, 3, 4]]"
      ]
     },
     "execution_count": 85,
     "metadata": {},
     "output_type": "execute_result"
    }
   ],
   "source": [
    "x"
   ]
  },
  {
   "cell_type": "markdown",
   "id": "4deb1306",
   "metadata": {},
   "source": [
    "- num_list is a numerical number of sequnc "
   ]
  },
  {
   "cell_type": "code",
   "execution_count": 86,
   "id": "334cbf48",
   "metadata": {},
   "outputs": [],
   "source": [
    "x.extend(num_list)"
   ]
  },
  {
   "cell_type": "code",
   "execution_count": 94,
   "id": "a1e375e3",
   "metadata": {},
   "outputs": [
    {
     "data": {
      "text/plain": [
       "['python', 'c++', 'java', 'jupiterlabs', [1, 2, 3, 4], 1, 2, 3, 4]"
      ]
     },
     "execution_count": 94,
     "metadata": {},
     "output_type": "execute_result"
    }
   ],
   "source": [
    "x"
   ]
  },
  {
   "cell_type": "code",
   "execution_count": 95,
   "id": "8c720ac8",
   "metadata": {},
   "outputs": [],
   "source": [
    "x[0]=\"xyz\""
   ]
  },
  {
   "cell_type": "code",
   "execution_count": 96,
   "id": "4863259e",
   "metadata": {},
   "outputs": [
    {
     "data": {
      "text/plain": [
       "['xyz', 'c++', 'java', 'jupiterlabs', [1, 2, 3, 4], 1, 2, 3, 4]"
      ]
     },
     "execution_count": 96,
     "metadata": {},
     "output_type": "execute_result"
    }
   ],
   "source": [
    "x"
   ]
  },
  {
   "cell_type": "markdown",
   "id": "f4be105c",
   "metadata": {},
   "source": [
    "- The extend() method adds the specified list elements (or any iterable) to the end of the current list.\n",
    "\n"
   ]
  },
  {
   "cell_type": "markdown",
   "id": "f7dda7b4",
   "metadata": {},
   "source": [
    "# mutable and immutable\n",
    "- mutable which is can be changeble \n",
    "- wher as immutable is cant be change"
   ]
  },
  {
   "cell_type": "code",
   "execution_count": 97,
   "id": "5d360dd5",
   "metadata": {},
   "outputs": [
    {
     "data": {
      "text/plain": [
       "['xyz', 'c++', 'java', 'jupiterlabs', [1, 2, 3, 4], 1, 2, 3, 4]"
      ]
     },
     "execution_count": 97,
     "metadata": {},
     "output_type": "execute_result"
    }
   ],
   "source": [
    "x"
   ]
  },
  {
   "cell_type": "markdown",
   "id": "cbaea0a9",
   "metadata": {},
   "source": [
    "# tuples\n"
   ]
  },
  {
   "cell_type": "code",
   "execution_count": 98,
   "id": "ee73060d",
   "metadata": {},
   "outputs": [],
   "source": [
    "languages=(\"python\",\"java\")"
   ]
  },
  {
   "cell_type": "code",
   "execution_count": 99,
   "id": "eb539063",
   "metadata": {},
   "outputs": [
    {
     "data": {
      "text/plain": [
       "tuple"
      ]
     },
     "execution_count": 99,
     "metadata": {},
     "output_type": "execute_result"
    }
   ],
   "source": [
    "type(languages)"
   ]
  },
  {
   "cell_type": "code",
   "execution_count": 104,
   "id": "df9591f7",
   "metadata": {},
   "outputs": [],
   "source": [
    "languages=(\"python\",\"java\",\"c++\")"
   ]
  },
  {
   "cell_type": "code",
   "execution_count": 105,
   "id": "04e84bc9",
   "metadata": {},
   "outputs": [
    {
     "data": {
      "text/plain": [
       "1"
      ]
     },
     "execution_count": 105,
     "metadata": {},
     "output_type": "execute_result"
    }
   ],
   "source": [
    "languages.count(\"python\")"
   ]
  },
  {
   "cell_type": "code",
   "execution_count": 102,
   "id": "338bf4a2",
   "metadata": {},
   "outputs": [
    {
     "data": {
      "text/plain": [
       "['xyz', 'c++', 'java', 'jupiterlabs', [1, 2, 3, 4], 1, 2, 3, 4]"
      ]
     },
     "execution_count": 102,
     "metadata": {},
     "output_type": "execute_result"
    }
   ],
   "source": [
    "x"
   ]
  },
  {
   "cell_type": "code",
   "execution_count": 106,
   "id": "3cfd840d",
   "metadata": {},
   "outputs": [
    {
     "data": {
      "text/plain": [
       "('python', 'java', 'c++')"
      ]
     },
     "execution_count": 106,
     "metadata": {},
     "output_type": "execute_result"
    }
   ],
   "source": [
    "languages\n"
   ]
  },
  {
   "cell_type": "code",
   "execution_count": 109,
   "id": "552e73d9",
   "metadata": {},
   "outputs": [
    {
     "data": {
      "text/plain": [
       "4"
      ]
     },
     "execution_count": 109,
     "metadata": {},
     "output_type": "execute_result"
    }
   ],
   "source": [
    "x[8]"
   ]
  },
  {
   "cell_type": "code",
   "execution_count": 110,
   "id": "9047be02",
   "metadata": {},
   "outputs": [],
   "source": [
    "x[8]=\"abc\""
   ]
  },
  {
   "cell_type": "code",
   "execution_count": 111,
   "id": "8649464b",
   "metadata": {},
   "outputs": [
    {
     "data": {
      "text/plain": [
       "['xyz', 'c++', 'java', 'jupiterlabs', [1, 2, 3, 4], 1, 2, 3, 'abc']"
      ]
     },
     "execution_count": 111,
     "metadata": {},
     "output_type": "execute_result"
    }
   ],
   "source": [
    "x"
   ]
  },
  {
   "cell_type": "markdown",
   "id": "eec9b347",
   "metadata": {},
   "source": [
    "# list in tuple"
   ]
  },
  {
   "cell_type": "code",
   "execution_count": 6,
   "id": "d2b32c32",
   "metadata": {},
   "outputs": [],
   "source": [
    "players=(\"virat\",[100,150,170,80])"
   ]
  },
  {
   "cell_type": "code",
   "execution_count": 8,
   "id": "8ed9ce88",
   "metadata": {},
   "outputs": [],
   "source": [
    "players[1][0]=110"
   ]
  },
  {
   "cell_type": "markdown",
   "id": "d0bcfca5",
   "metadata": {},
   "source": [
    "- here virate is 0 index and remaning [score] is secound index,from the code we writen as players of first of zero index is 110"
   ]
  },
  {
   "cell_type": "code",
   "execution_count": 9,
   "id": "5b2ccecb",
   "metadata": {},
   "outputs": [
    {
     "data": {
      "text/plain": [
       "('virat', [110, 150, 170, 80])"
      ]
     },
     "execution_count": 9,
     "metadata": {},
     "output_type": "execute_result"
    }
   ],
   "source": [
    "players"
   ]
  },
  {
   "cell_type": "code",
   "execution_count": 11,
   "id": "a5879bcf",
   "metadata": {},
   "outputs": [],
   "source": [
    "del players[1][0]"
   ]
  },
  {
   "cell_type": "code",
   "execution_count": 12,
   "id": "559d790f",
   "metadata": {},
   "outputs": [
    {
     "data": {
      "text/plain": [
       "('virat', [150, 170, 80])"
      ]
     },
     "execution_count": 12,
     "metadata": {},
     "output_type": "execute_result"
    }
   ],
   "source": [
    "players"
   ]
  },
  {
   "cell_type": "code",
   "execution_count": 13,
   "id": "06d65970",
   "metadata": {},
   "outputs": [
    {
     "data": {
      "text/plain": [
       "True"
      ]
     },
     "execution_count": 13,
     "metadata": {},
     "output_type": "execute_result"
    }
   ],
   "source": [
    "\"virat\" in players"
   ]
  },
  {
   "cell_type": "markdown",
   "id": "e943dc49",
   "metadata": {},
   "source": [
    "- the system take it as a booline value "
   ]
  },
  {
   "cell_type": "code",
   "execution_count": 14,
   "id": "840caf15",
   "metadata": {},
   "outputs": [
    {
     "data": {
      "text/plain": [
       "False"
      ]
     },
     "execution_count": 14,
     "metadata": {},
     "output_type": "execute_result"
    }
   ],
   "source": [
    "\"dhoni\" in players "
   ]
  },
  {
   "cell_type": "code",
   "execution_count": 16,
   "id": "dd91c94d",
   "metadata": {},
   "outputs": [],
   "source": [
    "s= \"welcome\""
   ]
  },
  {
   "cell_type": "code",
   "execution_count": 17,
   "id": "13d89b83",
   "metadata": {},
   "outputs": [
    {
     "data": {
      "text/plain": [
       "True"
      ]
     },
     "execution_count": 17,
     "metadata": {},
     "output_type": "execute_result"
    }
   ],
   "source": [
    "\"w\" in s"
   ]
  },
  {
   "cell_type": "code",
   "execution_count": 22,
   "id": "e26f1c65",
   "metadata": {},
   "outputs": [],
   "source": [
    "path= \"C:\\newfolder\""
   ]
  },
  {
   "cell_type": "code",
   "execution_count": 25,
   "id": "39372ef0",
   "metadata": {},
   "outputs": [
    {
     "name": "stdout",
     "output_type": "stream",
     "text": [
      "C:\n",
      "ewfolder\n"
     ]
    }
   ],
   "source": [
    "print (path)"
   ]
  },
  {
   "cell_type": "markdown",
   "id": "e2b17390",
   "metadata": {},
   "source": [
    "- here we miss \\n this means start from next line "
   ]
  },
  {
   "cell_type": "markdown",
   "id": "c2e3773f",
   "metadata": {},
   "source": [
    "- if we dont want to have a output like this then use /n "
   ]
  },
  {
   "cell_type": "code",
   "execution_count": 27,
   "id": "9e5a8982",
   "metadata": {},
   "outputs": [],
   "source": [
    "path=\"c://newfolder\""
   ]
  },
  {
   "cell_type": "code",
   "execution_count": 29,
   "id": "46f609dd",
   "metadata": {},
   "outputs": [
    {
     "name": "stdout",
     "output_type": "stream",
     "text": [
      "c://newfolder\n"
     ]
    }
   ],
   "source": [
    "print (path)"
   ]
  },
  {
   "cell_type": "code",
   "execution_count": 30,
   "id": "4b299c67",
   "metadata": {},
   "outputs": [],
   "source": [
    "path=r\"c://newfolder\""
   ]
  },
  {
   "cell_type": "markdown",
   "id": "58535a04",
   "metadata": {},
   "source": [
    "- here r  means take it RAW STRING ITSELF "
   ]
  },
  {
   "cell_type": "code",
   "execution_count": 31,
   "id": "5aa617b2",
   "metadata": {},
   "outputs": [
    {
     "name": "stdout",
     "output_type": "stream",
     "text": [
      "c://newfolder\n"
     ]
    }
   ],
   "source": [
    "print (path)"
   ]
  },
  {
   "cell_type": "code",
   "execution_count": null,
   "id": "e609aceb",
   "metadata": {},
   "outputs": [],
   "source": []
  }
 ],
 "metadata": {
  "kernelspec": {
   "display_name": "Python 3 (ipykernel)",
   "language": "python",
   "name": "python3"
  },
  "language_info": {
   "codemirror_mode": {
    "name": "ipython",
    "version": 3
   },
   "file_extension": ".py",
   "mimetype": "text/x-python",
   "name": "python",
   "nbconvert_exporter": "python",
   "pygments_lexer": "ipython3",
   "version": "3.11.5"
  },
  "nbTranslate": {
   "displayLangs": [
    "*"
   ],
   "hotkey": "alt-t",
   "langInMainMenu": true,
   "sourceLang": "en",
   "targetLang": "fr",
   "useGoogleTranslate": true
  },
  "toc": {
   "base_numbering": 1,
   "nav_menu": {},
   "number_sections": true,
   "sideBar": true,
   "skip_h1_title": false,
   "title_cell": "Table of Contents",
   "title_sidebar": "Contents",
   "toc_cell": false,
   "toc_position": {},
   "toc_section_display": true,
   "toc_window_display": false
  },
  "varInspector": {
   "cols": {
    "lenName": 16,
    "lenType": 16,
    "lenVar": 40
   },
   "kernels_config": {
    "python": {
     "delete_cmd_postfix": "",
     "delete_cmd_prefix": "del ",
     "library": "var_list.py",
     "varRefreshCmd": "print(var_dic_list())"
    },
    "r": {
     "delete_cmd_postfix": ") ",
     "delete_cmd_prefix": "rm(",
     "library": "var_list.r",
     "varRefreshCmd": "cat(var_dic_list()) "
    }
   },
   "types_to_exclude": [
    "module",
    "function",
    "builtin_function_or_method",
    "instance",
    "_Feature"
   ],
   "window_display": false
  }
 },
 "nbformat": 4,
 "nbformat_minor": 5
}
