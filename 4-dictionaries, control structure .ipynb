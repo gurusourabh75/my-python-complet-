{
 "cells": [
  {
   "cell_type": "markdown",
   "id": "ccab7fa9",
   "metadata": {},
   "source": [
    "# dictionaries \n",
    "- a data structure which has key and value paires \n",
    "- syntex = { } \n",
    "- these are mutable \n",
    "- this is not ordered \n",
    "- ordered means  basically ur index with changes in dictionaries\n",
    "- +,- index are not taken here only pop for deleting values"
   ]
  },
  {
   "cell_type": "code",
   "execution_count": 4,
   "id": "a108577f",
   "metadata": {},
   "outputs": [],
   "source": [
    "fruits ={'a':'apple','b':'banana','c':'cherry'}"
   ]
  },
  {
   "cell_type": "code",
   "execution_count": 5,
   "id": "fd439c53",
   "metadata": {},
   "outputs": [
    {
     "name": "stdout",
     "output_type": "stream",
     "text": [
      "<class 'dict'>\n"
     ]
    }
   ],
   "source": [
    "print(type(fruits))"
   ]
  },
  {
   "cell_type": "code",
   "execution_count": 6,
   "id": "6b62de79",
   "metadata": {},
   "outputs": [
    {
     "name": "stdout",
     "output_type": "stream",
     "text": [
      "Help on class dict in module builtins:\n",
      "\n",
      "class dict(object)\n",
      " |  dict() -> new empty dictionary\n",
      " |  dict(mapping) -> new dictionary initialized from a mapping object's\n",
      " |      (key, value) pairs\n",
      " |  dict(iterable) -> new dictionary initialized as if via:\n",
      " |      d = {}\n",
      " |      for k, v in iterable:\n",
      " |          d[k] = v\n",
      " |  dict(**kwargs) -> new dictionary initialized with the name=value pairs\n",
      " |      in the keyword argument list.  For example:  dict(one=1, two=2)\n",
      " |  \n",
      " |  Built-in subclasses:\n",
      " |      StgDict\n",
      " |  \n",
      " |  Methods defined here:\n",
      " |  \n",
      " |  __contains__(self, key, /)\n",
      " |      True if the dictionary has the specified key, else False.\n",
      " |  \n",
      " |  __delitem__(self, key, /)\n",
      " |      Delete self[key].\n",
      " |  \n",
      " |  __eq__(self, value, /)\n",
      " |      Return self==value.\n",
      " |  \n",
      " |  __ge__(self, value, /)\n",
      " |      Return self>=value.\n",
      " |  \n",
      " |  __getattribute__(self, name, /)\n",
      " |      Return getattr(self, name).\n",
      " |  \n",
      " |  __getitem__(...)\n",
      " |      x.__getitem__(y) <==> x[y]\n",
      " |  \n",
      " |  __gt__(self, value, /)\n",
      " |      Return self>value.\n",
      " |  \n",
      " |  __init__(self, /, *args, **kwargs)\n",
      " |      Initialize self.  See help(type(self)) for accurate signature.\n",
      " |  \n",
      " |  __ior__(self, value, /)\n",
      " |      Return self|=value.\n",
      " |  \n",
      " |  __iter__(self, /)\n",
      " |      Implement iter(self).\n",
      " |  \n",
      " |  __le__(self, value, /)\n",
      " |      Return self<=value.\n",
      " |  \n",
      " |  __len__(self, /)\n",
      " |      Return len(self).\n",
      " |  \n",
      " |  __lt__(self, value, /)\n",
      " |      Return self<value.\n",
      " |  \n",
      " |  __ne__(self, value, /)\n",
      " |      Return self!=value.\n",
      " |  \n",
      " |  __or__(self, value, /)\n",
      " |      Return self|value.\n",
      " |  \n",
      " |  __repr__(self, /)\n",
      " |      Return repr(self).\n",
      " |  \n",
      " |  __reversed__(self, /)\n",
      " |      Return a reverse iterator over the dict keys.\n",
      " |  \n",
      " |  __ror__(self, value, /)\n",
      " |      Return value|self.\n",
      " |  \n",
      " |  __setitem__(self, key, value, /)\n",
      " |      Set self[key] to value.\n",
      " |  \n",
      " |  __sizeof__(...)\n",
      " |      D.__sizeof__() -> size of D in memory, in bytes\n",
      " |  \n",
      " |  clear(...)\n",
      " |      D.clear() -> None.  Remove all items from D.\n",
      " |  \n",
      " |  copy(...)\n",
      " |      D.copy() -> a shallow copy of D\n",
      " |  \n",
      " |  get(self, key, default=None, /)\n",
      " |      Return the value for key if key is in the dictionary, else default.\n",
      " |  \n",
      " |  items(...)\n",
      " |      D.items() -> a set-like object providing a view on D's items\n",
      " |  \n",
      " |  keys(...)\n",
      " |      D.keys() -> a set-like object providing a view on D's keys\n",
      " |  \n",
      " |  pop(...)\n",
      " |      D.pop(k[,d]) -> v, remove specified key and return the corresponding value.\n",
      " |      \n",
      " |      If the key is not found, return the default if given; otherwise,\n",
      " |      raise a KeyError.\n",
      " |  \n",
      " |  popitem(self, /)\n",
      " |      Remove and return a (key, value) pair as a 2-tuple.\n",
      " |      \n",
      " |      Pairs are returned in LIFO (last-in, first-out) order.\n",
      " |      Raises KeyError if the dict is empty.\n",
      " |  \n",
      " |  setdefault(self, key, default=None, /)\n",
      " |      Insert key with a value of default if key is not in the dictionary.\n",
      " |      \n",
      " |      Return the value for key if key is in the dictionary, else default.\n",
      " |  \n",
      " |  update(...)\n",
      " |      D.update([E, ]**F) -> None.  Update D from dict/iterable E and F.\n",
      " |      If E is present and has a .keys() method, then does:  for k in E: D[k] = E[k]\n",
      " |      If E is present and lacks a .keys() method, then does:  for k, v in E: D[k] = v\n",
      " |      In either case, this is followed by: for k in F:  D[k] = F[k]\n",
      " |  \n",
      " |  values(...)\n",
      " |      D.values() -> an object providing a view on D's values\n",
      " |  \n",
      " |  ----------------------------------------------------------------------\n",
      " |  Class methods defined here:\n",
      " |  \n",
      " |  __class_getitem__(...) from builtins.type\n",
      " |      See PEP 585\n",
      " |  \n",
      " |  fromkeys(iterable, value=None, /) from builtins.type\n",
      " |      Create a new dictionary with keys from iterable and values set to value.\n",
      " |  \n",
      " |  ----------------------------------------------------------------------\n",
      " |  Static methods defined here:\n",
      " |  \n",
      " |  __new__(*args, **kwargs) from builtins.type\n",
      " |      Create and return a new object.  See help(type) for accurate signature.\n",
      " |  \n",
      " |  ----------------------------------------------------------------------\n",
      " |  Data and other attributes defined here:\n",
      " |  \n",
      " |  __hash__ = None\n",
      "\n"
     ]
    }
   ],
   "source": [
    "help(dict)"
   ]
  },
  {
   "cell_type": "code",
   "execution_count": 7,
   "id": "41ca504d",
   "metadata": {},
   "outputs": [
    {
     "data": {
      "text/plain": [
       "3"
      ]
     },
     "execution_count": 7,
     "metadata": {},
     "output_type": "execute_result"
    }
   ],
   "source": [
    "len(fruits)"
   ]
  },
  {
   "cell_type": "markdown",
   "id": "79f20e7b",
   "metadata": {},
   "source": [
    "- from given {'a':'apple'} where a is key and apple is valu both are key and value and they conisder as one "
   ]
  },
  {
   "cell_type": "code",
   "execution_count": 8,
   "id": "bd53cc28",
   "metadata": {},
   "outputs": [
    {
     "data": {
      "text/plain": [
       "'apple'"
      ]
     },
     "execution_count": 8,
     "metadata": {},
     "output_type": "execute_result"
    }
   ],
   "source": [
    "fruits['a']"
   ]
  },
  {
   "cell_type": "code",
   "execution_count": 9,
   "id": "9350aa76",
   "metadata": {},
   "outputs": [
    {
     "data": {
      "text/plain": [
       "'banana'"
      ]
     },
     "execution_count": 9,
     "metadata": {},
     "output_type": "execute_result"
    }
   ],
   "source": [
    "fruits['b']"
   ]
  },
  {
   "cell_type": "markdown",
   "id": "870e72d4",
   "metadata": {},
   "source": [
    "# if want to add an element "
   ]
  },
  {
   "cell_type": "code",
   "execution_count": 10,
   "id": "611ff865",
   "metadata": {},
   "outputs": [],
   "source": [
    "fruits['p']='papaya'"
   ]
  },
  {
   "cell_type": "code",
   "execution_count": 11,
   "id": "3cc060c0",
   "metadata": {},
   "outputs": [
    {
     "data": {
      "text/plain": [
       "{'a': 'apple', 'b': 'banana', 'c': 'cherry', 'p': 'papaya'}"
      ]
     },
     "execution_count": 11,
     "metadata": {},
     "output_type": "execute_result"
    }
   ],
   "source": [
    "fruits"
   ]
  },
  {
   "cell_type": "markdown",
   "id": "79c25fb0",
   "metadata": {},
   "source": [
    "- python clearly understand what data structure ur created "
   ]
  },
  {
   "cell_type": "code",
   "execution_count": 12,
   "id": "ac483857",
   "metadata": {},
   "outputs": [],
   "source": [
    "fruits['a']='avackado'"
   ]
  },
  {
   "cell_type": "code",
   "execution_count": 13,
   "id": "b932d7a5",
   "metadata": {},
   "outputs": [
    {
     "data": {
      "text/plain": [
       "{'a': 'avackado', 'b': 'banana', 'c': 'cherry', 'p': 'papaya'}"
      ]
     },
     "execution_count": 13,
     "metadata": {},
     "output_type": "execute_result"
    }
   ],
   "source": [
    "fruits"
   ]
  },
  {
   "cell_type": "markdown",
   "id": "69f78308",
   "metadata": {},
   "source": [
    "- its replaced 'a'value , because we cant keeo multi values in single key"
   ]
  },
  {
   "cell_type": "code",
   "execution_count": 16,
   "id": "55d15da3",
   "metadata": {},
   "outputs": [],
   "source": [
    "fruits['A']='apple'"
   ]
  },
  {
   "cell_type": "code",
   "execution_count": 17,
   "id": "a850d48a",
   "metadata": {},
   "outputs": [
    {
     "data": {
      "text/plain": [
       "{'a': 'avackado', 'b': 'banana', 'c': 'cherry', 'p': 'papaya', 'A': 'apple'}"
      ]
     },
     "execution_count": 17,
     "metadata": {},
     "output_type": "execute_result"
    }
   ],
   "source": [
    "fruits"
   ]
  },
  {
   "cell_type": "markdown",
   "id": "bd0b7131",
   "metadata": {},
   "source": [
    "# delect a key value in dictionories "
   ]
  },
  {
   "cell_type": "code",
   "execution_count": 18,
   "id": "9d04c30a",
   "metadata": {},
   "outputs": [
    {
     "data": {
      "text/plain": [
       "'apple'"
      ]
     },
     "execution_count": 18,
     "metadata": {},
     "output_type": "execute_result"
    }
   ],
   "source": [
    "fruits.pop('A')"
   ]
  },
  {
   "cell_type": "code",
   "execution_count": 19,
   "id": "d64feea4",
   "metadata": {},
   "outputs": [
    {
     "data": {
      "text/plain": [
       "{'a': 'avackado', 'b': 'banana', 'c': 'cherry', 'p': 'papaya'}"
      ]
     },
     "execution_count": 19,
     "metadata": {},
     "output_type": "execute_result"
    }
   ],
   "source": [
    "fruits"
   ]
  },
  {
   "cell_type": "code",
   "execution_count": 20,
   "id": "28445643",
   "metadata": {},
   "outputs": [],
   "source": [
    "del fruits['p']"
   ]
  },
  {
   "cell_type": "code",
   "execution_count": 21,
   "id": "4d37bae7",
   "metadata": {},
   "outputs": [
    {
     "data": {
      "text/plain": [
       "{'a': 'avackado', 'b': 'banana', 'c': 'cherry'}"
      ]
     },
     "execution_count": 21,
     "metadata": {},
     "output_type": "execute_result"
    }
   ],
   "source": [
    "fruits"
   ]
  },
  {
   "cell_type": "markdown",
   "id": "06b937e9",
   "metadata": {},
   "source": [
    " - del is generic keyword , where as pop is specific to which ever data set u given "
   ]
  },
  {
   "cell_type": "code",
   "execution_count": 22,
   "id": "27e9cd42",
   "metadata": {},
   "outputs": [
    {
     "data": {
      "text/plain": [
       "('c', 'cherry')"
      ]
     },
     "execution_count": 22,
     "metadata": {},
     "output_type": "execute_result"
    }
   ],
   "source": [
    "fruits.popitem()"
   ]
  },
  {
   "cell_type": "markdown",
   "id": "8e58548e",
   "metadata": {},
   "source": [
    "- popitem means it directly remove last item in the list"
   ]
  },
  {
   "cell_type": "code",
   "execution_count": 23,
   "id": "b44a89c7",
   "metadata": {},
   "outputs": [
    {
     "data": {
      "text/plain": [
       "{'a': 'avackado', 'b': 'banana'}"
      ]
     },
     "execution_count": 23,
     "metadata": {},
     "output_type": "execute_result"
    }
   ],
   "source": [
    "fruits"
   ]
  },
  {
   "cell_type": "code",
   "execution_count": 24,
   "id": "703c184b",
   "metadata": {},
   "outputs": [],
   "source": [
    "fruits['friuts']=['apple','penut','jackfriut']"
   ]
  },
  {
   "cell_type": "code",
   "execution_count": 25,
   "id": "760dc70f",
   "metadata": {},
   "outputs": [
    {
     "data": {
      "text/plain": [
       "{'a': 'avackado', 'b': 'banana', 'friuts': ['apple', 'penut', 'jackfriut']}"
      ]
     },
     "execution_count": 25,
     "metadata": {},
     "output_type": "execute_result"
    }
   ],
   "source": [
    "fruits"
   ]
  },
  {
   "cell_type": "code",
   "execution_count": 40,
   "id": "b6d4701d",
   "metadata": {},
   "outputs": [
    {
     "data": {
      "text/plain": [
       "{'a': 'avackado', 'b': 'banana', 'friuts': ['apple', 'penut', 'jackfriut']}"
      ]
     },
     "execution_count": 40,
     "metadata": {},
     "output_type": "execute_result"
    }
   ],
   "source": [
    "fruits"
   ]
  },
  {
   "cell_type": "code",
   "execution_count": 42,
   "id": "51e08c87",
   "metadata": {},
   "outputs": [
    {
     "data": {
      "text/plain": [
       "dict_values(['avackado', 'banana', ['apple', 'penut', 'jackfriut']])"
      ]
     },
     "execution_count": 42,
     "metadata": {},
     "output_type": "execute_result"
    }
   ],
   "source": [
    "fruits.values()"
   ]
  },
  {
   "cell_type": "code",
   "execution_count": 44,
   "id": "e80f39c7",
   "metadata": {},
   "outputs": [],
   "source": [
    "values = []\n",
    "for i in fruits.values():\n",
    "    values.append(i)"
   ]
  },
  {
   "cell_type": "code",
   "execution_count": 45,
   "id": "865c9c29",
   "metadata": {},
   "outputs": [
    {
     "data": {
      "text/plain": [
       "['avackado', 'banana', ['apple', 'penut', 'jackfriut']]"
      ]
     },
     "execution_count": 45,
     "metadata": {},
     "output_type": "execute_result"
    }
   ],
   "source": [
    "values"
   ]
  },
  {
   "cell_type": "code",
   "execution_count": 50,
   "id": "c5cdf579",
   "metadata": {},
   "outputs": [
    {
     "data": {
      "text/plain": [
       "('friuts', ['apple', 'penut', 'jackfriut'])"
      ]
     },
     "execution_count": 50,
     "metadata": {},
     "output_type": "execute_result"
    }
   ],
   "source": [
    "fruits.popitem()"
   ]
  },
  {
   "cell_type": "code",
   "execution_count": 51,
   "id": "16f2772a",
   "metadata": {},
   "outputs": [],
   "source": [
    "fruits['c']='cherry'"
   ]
  },
  {
   "cell_type": "code",
   "execution_count": 52,
   "id": "edf9382a",
   "metadata": {},
   "outputs": [
    {
     "data": {
      "text/plain": [
       "{'a': 'avackado', 'b': 'banana', 'c': 'cherry'}"
      ]
     },
     "execution_count": 52,
     "metadata": {},
     "output_type": "execute_result"
    }
   ],
   "source": [
    "fruits"
   ]
  },
  {
   "cell_type": "code",
   "execution_count": 53,
   "id": "613edc8d",
   "metadata": {},
   "outputs": [
    {
     "data": {
      "text/plain": [
       "dict_values(['avackado', 'banana', 'cherry'])"
      ]
     },
     "execution_count": 53,
     "metadata": {},
     "output_type": "execute_result"
    }
   ],
   "source": [
    "fruits.values()"
   ]
  },
  {
   "cell_type": "code",
   "execution_count": 58,
   "id": "3058afb7",
   "metadata": {},
   "outputs": [
    {
     "name": "stdout",
     "output_type": "stream",
     "text": [
      "('a', 'avackado')\n",
      "('b', 'banana')\n",
      "('c', 'cherry')\n"
     ]
    }
   ],
   "source": [
    "for i in fruits.items():\n",
    "    print(i)"
   ]
  },
  {
   "cell_type": "markdown",
   "id": "0241725e",
   "metadata": {},
   "source": [
    "- here i is key for values \n",
    "- when ' for i in fruits' means all the key of the given values "
   ]
  },
  {
   "cell_type": "code",
   "execution_count": 59,
   "id": "6860f03c",
   "metadata": {},
   "outputs": [
    {
     "data": {
      "text/plain": [
       "dict_items([('a', 'avackado'), ('b', 'banana'), ('c', 'cherry')])"
      ]
     },
     "execution_count": 59,
     "metadata": {},
     "output_type": "execute_result"
    }
   ],
   "source": [
    "fruits.items()"
   ]
  },
  {
   "cell_type": "markdown",
   "id": "d98fc72e",
   "metadata": {},
   "source": [
    "- as u cant modift key and value but u can create new key&value or remave and add new key&value "
   ]
  },
  {
   "cell_type": "markdown",
   "id": "bd2835c4",
   "metadata": {},
   "source": [
    "# IN OPERATION"
   ]
  },
  {
   "cell_type": "code",
   "execution_count": 60,
   "id": "0137628c",
   "metadata": {},
   "outputs": [],
   "source": [
    "s= 'welcome'"
   ]
  },
  {
   "cell_type": "code",
   "execution_count": 61,
   "id": "3b338d54",
   "metadata": {},
   "outputs": [
    {
     "data": {
      "text/plain": [
       "True"
      ]
     },
     "execution_count": 61,
     "metadata": {},
     "output_type": "execute_result"
    }
   ],
   "source": [
    "'w' in s"
   ]
  },
  {
   "cell_type": "code",
   "execution_count": 62,
   "id": "c2bc241a",
   "metadata": {},
   "outputs": [
    {
     "data": {
      "text/plain": [
       "True"
      ]
     },
     "execution_count": 62,
     "metadata": {},
     "output_type": "execute_result"
    }
   ],
   "source": [
    "'a' in fruits"
   ]
  },
  {
   "cell_type": "code",
   "execution_count": 64,
   "id": "f3013a73",
   "metadata": {},
   "outputs": [
    {
     "data": {
      "text/plain": [
       "True"
      ]
     },
     "execution_count": 64,
     "metadata": {},
     "output_type": "execute_result"
    }
   ],
   "source": [
    "'avackado' in fruits.values()"
   ]
  },
  {
   "cell_type": "markdown",
   "id": "e62070dc",
   "metadata": {},
   "source": [
    "\n",
    "# RANGE"
   ]
  },
  {
   "cell_type": "markdown",
   "id": "48044f94",
   "metadata": {},
   "source": [
    "- it is used to generte sequence of numbers\n",
    "- syntax, starting position(included) , ending position(excluded) ,stepsize\n",
    "- range is a function"
   ]
  },
  {
   "cell_type": "code",
   "execution_count": 65,
   "id": "c678d987",
   "metadata": {},
   "outputs": [],
   "source": [
    "r=range(0,11)"
   ]
  },
  {
   "cell_type": "markdown",
   "id": "64adda3c",
   "metadata": {},
   "source": [
    "-here where r have values of o to 10 which is stored in r"
   ]
  },
  {
   "cell_type": "code",
   "execution_count": 70,
   "id": "adb2de9b",
   "metadata": {},
   "outputs": [
    {
     "data": {
      "text/plain": [
       "range(0, 11)"
      ]
     },
     "execution_count": 70,
     "metadata": {},
     "output_type": "execute_result"
    }
   ],
   "source": [
    "r"
   ]
  },
  {
   "cell_type": "code",
   "execution_count": 67,
   "id": "a4ba2d41",
   "metadata": {},
   "outputs": [
    {
     "name": "stdout",
     "output_type": "stream",
     "text": [
      "<class 'range'>\n"
     ]
    }
   ],
   "source": [
    "print(type(r))"
   ]
  },
  {
   "cell_type": "code",
   "execution_count": 68,
   "id": "f26f6377",
   "metadata": {},
   "outputs": [
    {
     "data": {
      "text/plain": [
       "[0, 1, 2, 3, 4, 5, 6, 7, 8, 9, 10]"
      ]
     },
     "execution_count": 68,
     "metadata": {},
     "output_type": "execute_result"
    }
   ],
   "source": [
    "list(r)"
   ]
  },
  {
   "cell_type": "code",
   "execution_count": 71,
   "id": "0590a09f",
   "metadata": {},
   "outputs": [],
   "source": [
    "t=tuple(range(0,5))"
   ]
  },
  {
   "cell_type": "markdown",
   "id": "e3bbfd1a",
   "metadata": {},
   "source": [
    "- reloaction required value in new variable ( tuple[ ] [])\n",
    "- need a container to hold requird values"
   ]
  },
  {
   "cell_type": "code",
   "execution_count": 72,
   "id": "66f3f1c8",
   "metadata": {},
   "outputs": [
    {
     "data": {
      "text/plain": [
       "(0, 1, 2, 3, 4)"
      ]
     },
     "execution_count": 72,
     "metadata": {},
     "output_type": "execute_result"
    }
   ],
   "source": [
    "t"
   ]
  },
  {
   "cell_type": "code",
   "execution_count": 73,
   "id": "3c8fc49c",
   "metadata": {},
   "outputs": [],
   "source": [
    "r=list(range(0,10,2))"
   ]
  },
  {
   "cell_type": "code",
   "execution_count": 74,
   "id": "0de4bd5d",
   "metadata": {},
   "outputs": [
    {
     "data": {
      "text/plain": [
       "[0, 2, 4, 6, 8]"
      ]
     },
     "execution_count": 74,
     "metadata": {},
     "output_type": "execute_result"
    }
   ],
   "source": [
    "r"
   ]
  },
  {
   "cell_type": "code",
   "execution_count": 83,
   "id": "718a3bdb",
   "metadata": {},
   "outputs": [],
   "source": [
    "r= list(range(11,0,-1))\n"
   ]
  },
  {
   "cell_type": "markdown",
   "id": "6348cee3",
   "metadata": {},
   "source": [
    "- here we gave range from (11,0) means it should come from 11 to 1 but the out put is null because \" when u need in desending order -1 should be mandatoroy \""
   ]
  },
  {
   "cell_type": "code",
   "execution_count": 84,
   "id": "362eb070",
   "metadata": {},
   "outputs": [
    {
     "data": {
      "text/plain": [
       "[11, 10, 9, 8, 7, 6, 5, 4, 3, 2, 1]"
      ]
     },
     "execution_count": 84,
     "metadata": {},
     "output_type": "execute_result"
    }
   ],
   "source": [
    "r"
   ]
  },
  {
   "cell_type": "code",
   "execution_count": 86,
   "id": "849a1180",
   "metadata": {},
   "outputs": [],
   "source": [
    "r= list(range(100,0,-10))"
   ]
  },
  {
   "cell_type": "code",
   "execution_count": 87,
   "id": "bf7fc980",
   "metadata": {},
   "outputs": [
    {
     "data": {
      "text/plain": [
       "[100, 90, 80, 70, 60, 50, 40, 30, 20, 10]"
      ]
     },
     "execution_count": 87,
     "metadata": {},
     "output_type": "execute_result"
    }
   ],
   "source": [
    "r"
   ]
  },
  {
   "cell_type": "markdown",
   "id": "58f0f1d9",
   "metadata": {},
   "source": [
    "# control statements "
   ]
  },
  {
   "cell_type": "code",
   "execution_count": 1,
   "id": "828f43bf",
   "metadata": {},
   "outputs": [
    {
     "name": "stdout",
     "output_type": "stream",
     "text": [
      "enter the number: 2\n"
     ]
    }
   ],
   "source": [
    "score1 = input(\"enter the number: \")\n"
   ]
  },
  {
   "cell_type": "markdown",
   "id": "3936cd41",
   "metadata": {},
   "source": [
    "- from perious step input is given because it give user to give input"
   ]
  },
  {
   "cell_type": "code",
   "execution_count": 2,
   "id": "89fa5e59",
   "metadata": {},
   "outputs": [
    {
     "ename": "NameError",
     "evalue": "name 'score' is not defined",
     "output_type": "error",
     "traceback": [
      "\u001b[0;31m---------------------------------------------------------------------------\u001b[0m",
      "\u001b[0;31mNameError\u001b[0m                                 Traceback (most recent call last)",
      "Cell \u001b[0;32mIn[2], line 1\u001b[0m\n\u001b[0;32m----> 1\u001b[0m \u001b[43mscore\u001b[49m\n",
      "\u001b[0;31mNameError\u001b[0m: name 'score' is not defined"
     ]
    }
   ],
   "source": [
    "score"
   ]
  },
  {
   "cell_type": "code",
   "execution_count": 3,
   "id": "711510ef",
   "metadata": {},
   "outputs": [],
   "source": [
    "def add_num(a,b):\n",
    "    return a+b"
   ]
  },
  {
   "cell_type": "code",
   "execution_count": 4,
   "id": "0e3ba665",
   "metadata": {},
   "outputs": [
    {
     "data": {
      "text/plain": [
       "3"
      ]
     },
     "execution_count": 4,
     "metadata": {},
     "output_type": "execute_result"
    }
   ],
   "source": [
    "add_num(1,2)"
   ]
  },
  {
   "cell_type": "markdown",
   "id": "44c9f45a",
   "metadata": {},
   "source": [
    "# condition statements"
   ]
  },
  {
   "cell_type": "markdown",
   "id": "3f62aab7",
   "metadata": {},
   "source": [
    "- if ,if-else,elif,while"
   ]
  },
  {
   "cell_type": "markdown",
   "id": "a02fef64",
   "metadata": {},
   "source": [
    "# 1. if else"
   ]
  },
  {
   "cell_type": "code",
   "execution_count": 5,
   "id": "96203104",
   "metadata": {},
   "outputs": [
    {
     "name": "stdout",
     "output_type": "stream",
     "text": [
      "enter any number: 10\n",
      "10 <class 'int'>\n"
     ]
    }
   ],
   "source": [
    "number = int(input(\"enter any number: \"))\n",
    "print(number, type(number))"
   ]
  },
  {
   "cell_type": "code",
   "execution_count": 10,
   "id": "d50bc784",
   "metadata": {},
   "outputs": [
    {
     "name": "stdout",
     "output_type": "stream",
     "text": [
      "enter any number: 10\n",
      "10 <class 'int'>\n",
      "user has entered a positive number.\n"
     ]
    }
   ],
   "source": [
    "number = int(input(\"enter any number: \"))\n",
    "print(number, type(number))\n",
    "if number>=0:\n",
    "    print(\"user has entered a positive number.\")\n",
    "else:\n",
    "    print(\"user has enterd a negative number.\")"
   ]
  },
  {
   "cell_type": "code",
   "execution_count": 11,
   "id": "e3b28989",
   "metadata": {},
   "outputs": [
    {
     "name": "stdout",
     "output_type": "stream",
     "text": [
      "enter any number: -10\n",
      "-10 <class 'int'>\n",
      "user has enterd a negative number.\n"
     ]
    }
   ],
   "source": [
    "number = int(input(\"enter any number: \"))\n",
    "print(number, type(number))\n",
    "if number>=0:\n",
    "    print(\"user has entered a positive number.\")\n",
    "else:\n",
    "    print(\"user has enterd a negative number.\")"
   ]
  },
  {
   "cell_type": "markdown",
   "id": "30125c7a",
   "metadata": {},
   "source": [
    " "
   ]
  },
  {
   "cell_type": "markdown",
   "id": "d9608e5f",
   "metadata": {},
   "source": [
    "# elif "
   ]
  },
  {
   "cell_type": "markdown",
   "id": "a491e0b8",
   "metadata": {},
   "source": [
    "- here input number is given then if and else are followed and gives output ,\n",
    "when there is any elif it jzt follow it condition , it only show the out only elif concition is acepted \n",
    "- here u can use multi number of elif but have to start with if and ends with else condition "
   ]
  },
  {
   "cell_type": "code",
   "execution_count": 20,
   "id": "c73570d8",
   "metadata": {},
   "outputs": [
    {
     "name": "stdout",
     "output_type": "stream",
     "text": [
      "enter any number: 0\n",
      "user has enter zero\n"
     ]
    }
   ],
   "source": [
    "number = int(input(\"enter any number: \"))\n",
    "#print(number, type(number))\n",
    "if (number > 0):\n",
    "    print(\"user has entered a positive number.\")\n",
    "elif(number==0):\n",
    "    print(\"user has enter zero\")\n",
    "else:\n",
    "    print(\"user has enterd a negative number.\")"
   ]
  },
  {
   "cell_type": "code",
   "execution_count": 1,
   "id": "78ba0ad8",
   "metadata": {},
   "outputs": [
    {
     "name": "stdout",
     "output_type": "stream",
     "text": [
      "enter any number: 0\n",
      "user has enter zero\n"
     ]
    }
   ],
   "source": [
    "number = int(input(\"enter any number: \"))\n",
    "#print(number, type(number))\n",
    "if (number > 0):\n",
    "    print(\"user has entered a positive number.\")\n",
    "elif(number==0):\n",
    "    print(\"user has enter zero\")\n",
    "else:\n",
    "    print(\"user has enterd a negative number.\")"
   ]
  },
  {
   "cell_type": "markdown",
   "id": "052caebc",
   "metadata": {},
   "source": [
    "- condition statements should be end with '  :    '"
   ]
  },
  {
   "cell_type": "code",
   "execution_count": 5,
   "id": "028cb874",
   "metadata": {},
   "outputs": [
    {
     "name": "stdout",
     "output_type": "stream",
     "text": [
      "1\n",
      "2\n",
      "3\n",
      "4\n",
      "5\n"
     ]
    }
   ],
   "source": [
    "index= 1\n",
    "while index <= 5:\n",
    "     print(index)\n",
    "     index +=1"
   ]
  },
  {
   "cell_type": "code",
   "execution_count": null,
   "id": "ad0318f7",
   "metadata": {},
   "outputs": [],
   "source": []
  }
 ],
 "metadata": {
  "kernelspec": {
   "display_name": "Python 3 (ipykernel)",
   "language": "python",
   "name": "python3"
  },
  "language_info": {
   "codemirror_mode": {
    "name": "ipython",
    "version": 3
   },
   "file_extension": ".py",
   "mimetype": "text/x-python",
   "name": "python",
   "nbconvert_exporter": "python",
   "pygments_lexer": "ipython3",
   "version": "3.11.5"
  }
 },
 "nbformat": 4,
 "nbformat_minor": 5
}
