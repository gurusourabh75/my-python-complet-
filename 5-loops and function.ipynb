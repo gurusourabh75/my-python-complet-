{
 "cells": [
  {
   "cell_type": "markdown",
   "id": "a9da77b5",
   "metadata": {},
   "source": [
    "### while loop"
   ]
  },
  {
   "cell_type": "markdown",
   "id": "f6a2286b",
   "metadata": {},
   "source": [
    "- With the while loop we can execute a set of statements as long as a condition is true."
   ]
  },
  {
   "cell_type": "code",
   "execution_count": 10,
   "id": "2a47153c",
   "metadata": {},
   "outputs": [
    {
     "name": "stdout",
     "output_type": "stream",
     "text": [
      "1\n",
      "2\n",
      "3\n",
      "4\n",
      "5\n",
      "6\n",
      "7\n",
      "8\n",
      "9\n",
      "10\n"
     ]
    }
   ],
   "source": [
    "index =1\n",
    "while index <=10:\n",
    "     print(index)\n",
    "     index += 1"
   ]
  },
  {
   "cell_type": "code",
   "execution_count": 13,
   "id": "8286df35",
   "metadata": {},
   "outputs": [
    {
     "name": "stdout",
     "output_type": "stream",
     "text": [
      "1\n",
      "2\n",
      "3\n",
      "4\n",
      "5\n",
      "6\n",
      "7\n",
      "8\n",
      "9\n"
     ]
    }
   ],
   "source": [
    "index =1\n",
    "while index <=9:\n",
    "     print(index)\n",
    "     index += 1"
   ]
  },
  {
   "cell_type": "code",
   "execution_count": 12,
   "id": "cc231275",
   "metadata": {},
   "outputs": [],
   "source": [
    "# for loop "
   ]
  },
  {
   "cell_type": "markdown",
   "id": "844fa254",
   "metadata": {},
   "source": [
    "- iterating through a range \n",
    "- for loop \n",
    "- syntex: keywoard called for "
   ]
  },
  {
   "cell_type": "code",
   "execution_count": 27,
   "id": "7a7ed78c",
   "metadata": {},
   "outputs": [],
   "source": [
    "r = list(range(5,15))\n"
   ]
  },
  {
   "cell_type": "code",
   "execution_count": 28,
   "id": "e6af1784",
   "metadata": {},
   "outputs": [
    {
     "name": "stdout",
     "output_type": "stream",
     "text": [
      "5\n",
      "6\n",
      "7\n",
      "8\n",
      "9\n",
      "10\n",
      "11\n",
      "12\n",
      "13\n",
      "14\n"
     ]
    }
   ],
   "source": [
    "for i in r :\n",
    "    print(i)"
   ]
  },
  {
   "cell_type": "markdown",
   "id": "cc2ea794",
   "metadata": {},
   "source": [
    "- here not only i u can also give num or any thing"
   ]
  },
  {
   "cell_type": "code",
   "execution_count": 24,
   "id": "c700ea53",
   "metadata": {},
   "outputs": [],
   "source": [
    "companies= ['amazon','flipkart','snapdeal']"
   ]
  },
  {
   "cell_type": "code",
   "execution_count": 26,
   "id": "274ae7f5",
   "metadata": {},
   "outputs": [],
   "source": [
    "websites_list = []\n",
    "for websites in companies:\n",
    " #print(\"www.\"+websites+\".com\")\n",
    "    web =\"www.\"+websites+\".com\"\n",
    "    websites_list.append(web)"
   ]
  },
  {
   "cell_type": "code",
   "execution_count": 27,
   "id": "24636c07",
   "metadata": {},
   "outputs": [
    {
     "data": {
      "text/plain": [
       "['www.amazon.com', 'www.flipkart.com', 'www.snapdeal.com']"
      ]
     },
     "execution_count": 27,
     "metadata": {},
     "output_type": "execute_result"
    }
   ],
   "source": [
    "websites_list"
   ]
  },
  {
   "cell_type": "code",
   "execution_count": 28,
   "id": "d0761bed",
   "metadata": {},
   "outputs": [],
   "source": [
    "r= range(1,10)"
   ]
  },
  {
   "cell_type": "code",
   "execution_count": 30,
   "id": "3f525d29",
   "metadata": {},
   "outputs": [],
   "source": [
    "sqr=[]\n",
    "for i in r:\n",
    "    sqr.append(i*i)"
   ]
  },
  {
   "cell_type": "code",
   "execution_count": 32,
   "id": "a4e05000",
   "metadata": {},
   "outputs": [
    {
     "data": {
      "text/plain": [
       "[1, 4, 9, 16, 25, 36, 49, 64, 81]"
      ]
     },
     "execution_count": 32,
     "metadata": {},
     "output_type": "execute_result"
    }
   ],
   "source": [
    "sqr"
   ]
  },
  {
   "cell_type": "code",
   "execution_count": 33,
   "id": "26b75ee7",
   "metadata": {},
   "outputs": [],
   "source": [
    "sqr=[ i*i for i in range(1,10)]"
   ]
  },
  {
   "cell_type": "code",
   "execution_count": 34,
   "id": "ed744344",
   "metadata": {},
   "outputs": [
    {
     "data": {
      "text/plain": [
       "[1, 4, 9, 16, 25, 36, 49, 64, 81]"
      ]
     },
     "execution_count": 34,
     "metadata": {},
     "output_type": "execute_result"
    }
   ],
   "source": [
    "sqr"
   ]
  },
  {
   "cell_type": "markdown",
   "id": "3f059346",
   "metadata": {},
   "source": [
    "\n",
    "#  dict"
   ]
  },
  {
   "cell_type": "code",
   "execution_count": 42,
   "id": "6d0d6dfd",
   "metadata": {},
   "outputs": [],
   "source": [
    "vk= {'name':'Virat','age':32,'team':'RCB'}"
   ]
  },
  {
   "cell_type": "code",
   "execution_count": 44,
   "id": "1f2646a2",
   "metadata": {},
   "outputs": [
    {
     "data": {
      "text/plain": [
       "dict_keys(['name', 'age', 'team'])"
      ]
     },
     "execution_count": 44,
     "metadata": {},
     "output_type": "execute_result"
    }
   ],
   "source": [
    "vk.keys()"
   ]
  },
  {
   "cell_type": "code",
   "execution_count": 45,
   "id": "cbc9f848",
   "metadata": {},
   "outputs": [
    {
     "data": {
      "text/plain": [
       "dict_values(['Virat', 32, 'RCB'])"
      ]
     },
     "execution_count": 45,
     "metadata": {},
     "output_type": "execute_result"
    }
   ],
   "source": [
    "vk.values()"
   ]
  },
  {
   "cell_type": "code",
   "execution_count": 46,
   "id": "52c2ca60",
   "metadata": {},
   "outputs": [
    {
     "name": "stdout",
     "output_type": "stream",
     "text": [
      "name\n",
      "age\n",
      "team\n"
     ]
    }
   ],
   "source": [
    "for i in vk:\n",
    "    print(i)"
   ]
  },
  {
   "cell_type": "code",
   "execution_count": 48,
   "id": "c649fc66",
   "metadata": {},
   "outputs": [
    {
     "name": "stdout",
     "output_type": "stream",
     "text": [
      "name\n",
      "age\n",
      "team\n"
     ]
    }
   ],
   "source": [
    "for j in vk:\n",
    "    print(j)"
   ]
  },
  {
   "cell_type": "code",
   "execution_count": 52,
   "id": "b134af5c",
   "metadata": {},
   "outputs": [
    {
     "name": "stdout",
     "output_type": "stream",
     "text": [
      "name Virat\n",
      "age 32\n",
      "team RCB\n"
     ]
    }
   ],
   "source": [
    "for i ,j in vk.items():\n",
    "    print(i, j)"
   ]
  },
  {
   "cell_type": "markdown",
   "id": "17a00980",
   "metadata": {},
   "source": [
    "-in defalt i is taken as key where j cant take sepertly , if u want to take j as values on in big code "
   ]
  },
  {
   "cell_type": "code",
   "execution_count": 54,
   "id": "c18b6faa",
   "metadata": {},
   "outputs": [
    {
     "name": "stdout",
     "output_type": "stream",
     "text": [
      "1\n",
      "2\n",
      "3\n",
      "4\n",
      "5\n"
     ]
    }
   ],
   "source": [
    "for i in range(1,11):\n",
    "    print(i)\n",
    "    if i ==5:\n",
    "        break"
   ]
  },
  {
   "cell_type": "markdown",
   "id": "c70651ae",
   "metadata": {},
   "source": [
    "- \" pass \" is a word it doest not any syntex error "
   ]
  },
  {
   "cell_type": "markdown",
   "id": "1ab7c2d3",
   "metadata": {},
   "source": [
    "- user have to give some input\n",
    "- reverse thr input \n",
    "- input = 123 , output=321 "
   ]
  },
  {
   "cell_type": "markdown",
   "id": "48c06e3f",
   "metadata": {},
   "source": [
    "nums= input( \" enter a value : \")\n",
    "nums=nums[ : : -1]\n",
    "print(\"reversed number is \",nums )\n"
   ]
  },
  {
   "cell_type": "markdown",
   "id": "e0d3cc7d",
   "metadata": {},
   "source": [
    "# get sum of elements iin a list use for loop\n",
    "nums=[1,2,3]\n",
    "result=6 "
   ]
  },
  {
   "cell_type": "code",
   "execution_count": 9,
   "id": "bd8e8c10",
   "metadata": {},
   "outputs": [],
   "source": [
    "nums:[1,2,3]"
   ]
  },
  {
   "cell_type": "code",
   "execution_count": 14,
   "id": "b43b6e99",
   "metadata": {},
   "outputs": [
    {
     "ename": "NameError",
     "evalue": "name 'nums' is not defined",
     "output_type": "error",
     "traceback": [
      "\u001b[0;31m---------------------------------------------------------------------------\u001b[0m",
      "\u001b[0;31mNameError\u001b[0m                                 Traceback (most recent call last)",
      "Cell \u001b[0;32mIn[14], line 2\u001b[0m\n\u001b[1;32m      1\u001b[0m res\u001b[38;5;241m=\u001b[39m \u001b[38;5;241m0\u001b[39m\n\u001b[0;32m----> 2\u001b[0m \u001b[38;5;28;01mfor\u001b[39;00m i \u001b[38;5;129;01min\u001b[39;00m \u001b[43mnums\u001b[49m:\n\u001b[1;32m      3\u001b[0m     res \u001b[38;5;241m=\u001b[39m res\u001b[38;5;241m+\u001b[39mi\n\u001b[1;32m      4\u001b[0m     \u001b[38;5;28mprint\u001b[39m(res)\n",
      "\u001b[0;31mNameError\u001b[0m: name 'nums' is not defined"
     ]
    }
   ],
   "source": [
    "res= 0\n",
    "for i in nums:\n",
    "    res = res+i\n",
    "    print(res)\n",
    "  "
   ]
  },
  {
   "cell_type": "code",
   "execution_count": 11,
   "id": "6ec15ebc",
   "metadata": {},
   "outputs": [
    {
     "name": "stdout",
     "output_type": "stream",
     "text": [
      "rev num:  4\n",
      "rev num:  43\n",
      "rev num:  432\n",
      "rev num:  4321\n"
     ]
    }
   ],
   "source": [
    "num= 1234\n",
    "rev= 0\n",
    "while num !=0:\n",
    "    dig = num % 10\n",
    "    rev = rev*10 +dig \n",
    "    num //=10\n",
    "    print(\"rev num: \",rev)"
   ]
  },
  {
   "cell_type": "code",
   "execution_count": null,
   "id": "ee3fd7bc",
   "metadata": {},
   "outputs": [],
   "source": []
  }
 ],
 "metadata": {
  "kernelspec": {
   "display_name": "Python 3 (ipykernel)",
   "language": "python",
   "name": "python3"
  },
  "language_info": {
   "codemirror_mode": {
    "name": "ipython",
    "version": 3
   },
   "file_extension": ".py",
   "mimetype": "text/x-python",
   "name": "python",
   "nbconvert_exporter": "python",
   "pygments_lexer": "ipython3",
   "version": "3.11.5"
  }
 },
 "nbformat": 4,
 "nbformat_minor": 5
}
