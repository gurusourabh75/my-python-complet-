{
 "cells": [
  {
   "cell_type": "markdown",
   "id": "a76f6bb2",
   "metadata": {},
   "source": [
    "# Introduction to Datatypes"
   ]
  },
  {
   "cell_type": "markdown",
   "id": "a670248c",
   "metadata": {},
   "source": [
    "¸"
   ]
  },
  {
   "cell_type": "markdown",
   "id": "d7d22254",
   "metadata": {},
   "source": [
    "-  according to numerical type \n",
    "- 1. integer ex: 1,2,3,4,5,...\n",
    "- 2. float   ex: means decimals values like 1.0 , like number with point\n",
    "- 3. complex ex: imagineary number going to be real number like 1+i3 where 1 is realnumber and i3 is imagineary number\n",
    "- 4. strings ex: characters or sequence of characters \n",
    "     always string comes under (\" \") weather it is charactor\n",
    "-  5. boolen. ex: means it true or false        \n",
    "- these are all comes under primary data types"
   ]
  },
  {
   "cell_type": "markdown",
   "id": "4c2e9700",
   "metadata": {},
   "source": [
    "# Secoundary Data types "
   ]
  },
  {
   "cell_type": "markdown",
   "id": "76886874",
   "metadata": {},
   "source": [
    "- nothing but storage or container type \n",
    "- list  where u can store string boolen or charatcerstic  \"[  ]\"\n",
    "- tuple  here we use ( )\n",
    "- dictnary  here er have key:value where we store in  { } \n",
    "- sets where we can store unique set of things we want { }\n",
    "\n"
   ]
  },
  {
   "cell_type": "code",
   "execution_count": 2,
   "id": "c53f8a53",
   "metadata": {},
   "outputs": [],
   "source": [
    "x=10"
   ]
  },
  {
   "cell_type": "code",
   "execution_count": 3,
   "id": "b1b3b918",
   "metadata": {},
   "outputs": [
    {
     "name": "stdout",
     "output_type": "stream",
     "text": [
      "10\n"
     ]
    }
   ],
   "source": [
    "print(x)"
   ]
  },
  {
   "cell_type": "code",
   "execution_count": 4,
   "id": "134d081e",
   "metadata": {
    "scrolled": true
   },
   "outputs": [
    {
     "data": {
      "text/plain": [
       "int"
      ]
     },
     "execution_count": 4,
     "metadata": {},
     "output_type": "execute_result"
    }
   ],
   "source": [
    "type(x)"
   ]
  },
  {
   "cell_type": "code",
   "execution_count": 5,
   "id": "359ab2db",
   "metadata": {},
   "outputs": [
    {
     "data": {
      "text/plain": [
       "140416365330960"
      ]
     },
     "execution_count": 5,
     "metadata": {},
     "output_type": "execute_result"
    }
   ],
   "source": [
    "id(x)"
   ]
  },
  {
   "cell_type": "markdown",
   "id": "df67279d",
   "metadata": {},
   "source": [
    "- where id is storage loction"
   ]
  },
  {
   "cell_type": "code",
   "execution_count": 6,
   "id": "0b0b3a4f",
   "metadata": {},
   "outputs": [],
   "source": [
    "y=22.5"
   ]
  },
  {
   "cell_type": "code",
   "execution_count": 7,
   "id": "ae2dc0fe",
   "metadata": {},
   "outputs": [
    {
     "data": {
      "text/plain": [
       "float"
      ]
     },
     "execution_count": 7,
     "metadata": {},
     "output_type": "execute_result"
    }
   ],
   "source": [
    "type(y)"
   ]
  },
  {
   "cell_type": "markdown",
   "id": "cd3afaa7",
   "metadata": {},
   "source": [
    "# STRINGS"
   ]
  },
  {
   "cell_type": "markdown",
   "id": "9304a79e",
   "metadata": {},
   "source": [
    "- STRINGS - is acollection of characters\n",
    "- syntax: used double or single quotes\n",
    "- it is immutable "
   ]
  },
  {
   "cell_type": "code",
   "execution_count": 2,
   "id": "6b9484cc",
   "metadata": {},
   "outputs": [],
   "source": [
    "s='welcome'# CREATION OF STRING"
   ]
  },
  {
   "cell_type": "code",
   "execution_count": 9,
   "id": "12e5f177",
   "metadata": {},
   "outputs": [
    {
     "data": {
      "text/plain": [
       "str"
      ]
     },
     "execution_count": 9,
     "metadata": {},
     "output_type": "execute_result"
    }
   ],
   "source": [
    "type(s)"
   ]
  },
  {
   "cell_type": "code",
   "execution_count": 10,
   "id": "bd9f8d05",
   "metadata": {},
   "outputs": [],
   "source": [
    "del s"
   ]
  },
  {
   "cell_type": "code",
   "execution_count": 19,
   "id": "6d7de9de",
   "metadata": {},
   "outputs": [
    {
     "data": {
      "text/plain": [
       "'welcome'"
      ]
     },
     "execution_count": 19,
     "metadata": {},
     "output_type": "execute_result"
    }
   ],
   "source": [
    "s"
   ]
  },
  {
   "cell_type": "code",
   "execution_count": 14,
   "id": "be2f5a13",
   "metadata": {},
   "outputs": [
    {
     "data": {
      "text/plain": [
       "7"
      ]
     },
     "execution_count": 14,
     "metadata": {},
     "output_type": "execute_result"
    }
   ],
   "source": [
    "len(s)"
   ]
  },
  {
   "cell_type": "code",
   "execution_count": 18,
   "id": "9e0e2c81",
   "metadata": {},
   "outputs": [
    {
     "name": "stdout",
     "output_type": "stream",
     "text": [
      "print length of s is : 7\n"
     ]
    }
   ],
   "source": [
    "print(\"print length of s is :\",len(s))"
   ]
  },
  {
   "cell_type": "markdown",
   "id": "e7cb1e49",
   "metadata": {},
   "source": [
    "- from above we can understand the given question was in {\" question : answer \" ,count (lens(s)) }\n",
    "- len is used for number of variables "
   ]
  },
  {
   "cell_type": "markdown",
   "id": "37f0cfac",
   "metadata": {},
   "source": [
    "# INDEXING "
   ]
  },
  {
   "cell_type": "markdown",
   "id": "d6871ffc",
   "metadata": {},
   "source": [
    "- INDEXIND is counting/position of element\n",
    "- in python indexing always starts with zero"
   ]
  },
  {
   "cell_type": "code",
   "execution_count": 21,
   "id": "739f5913",
   "metadata": {},
   "outputs": [
    {
     "data": {
      "text/plain": [
       "'welcome'"
      ]
     },
     "execution_count": 21,
     "metadata": {},
     "output_type": "execute_result"
    }
   ],
   "source": [
    "s"
   ]
  },
  {
   "cell_type": "code",
   "execution_count": 22,
   "id": "410dd6e3",
   "metadata": {},
   "outputs": [
    {
     "data": {
      "text/plain": [
       "'w'"
      ]
     },
     "execution_count": 22,
     "metadata": {},
     "output_type": "execute_result"
    }
   ],
   "source": [
    "s[0]"
   ]
  },
  {
   "cell_type": "code",
   "execution_count": 23,
   "id": "780e99f4",
   "metadata": {},
   "outputs": [
    {
     "data": {
      "text/plain": [
       "'o'"
      ]
     },
     "execution_count": 23,
     "metadata": {},
     "output_type": "execute_result"
    }
   ],
   "source": [
    "s[4]"
   ]
  },
  {
   "cell_type": "markdown",
   "id": "6e8261f5",
   "metadata": {},
   "source": [
    "- W E L C O M E\n",
    "- 0  1  2  3  4  5  6  positive index"
   ]
  },
  {
   "cell_type": "markdown",
   "id": "43e93fc3",
   "metadata": {},
   "source": [
    "- POSITIVE INDEXING [STARTS FORM 0 TO ...]\n",
    "- NEGATIVE INDEXING [STARTS FROM RIGHT TO LEFT ]\n"
   ]
  },
  {
   "cell_type": "markdown",
   "id": "8eefcdc2",
   "metadata": {},
   "source": [
    "- W   E  L  C  O  M  E \n",
    "- -7 -6 -5 -4 -3 -2 -1     NEGATIVE INDEXING "
   ]
  },
  {
   "cell_type": "code",
   "execution_count": 26,
   "id": "e6b4a10b",
   "metadata": {},
   "outputs": [
    {
     "data": {
      "text/plain": [
       "'c'"
      ]
     },
     "execution_count": 26,
     "metadata": {},
     "output_type": "execute_result"
    }
   ],
   "source": [
    "s[-4]"
   ]
  },
  {
   "cell_type": "markdown",
   "id": "2290d6f7",
   "metadata": {},
   "source": [
    "# METHODS"
   ]
  },
  {
   "cell_type": "code",
   "execution_count": 27,
   "id": "49f21846",
   "metadata": {},
   "outputs": [
    {
     "data": {
      "text/plain": [
       "'Welcome'"
      ]
     },
     "execution_count": 27,
     "metadata": {},
     "output_type": "execute_result"
    }
   ],
   "source": [
    "s.capitalize()"
   ]
  },
  {
   "cell_type": "code",
   "execution_count": 28,
   "id": "5620b2f3",
   "metadata": {},
   "outputs": [
    {
     "data": {
      "text/plain": [
       "'welcome'"
      ]
     },
     "execution_count": 28,
     "metadata": {},
     "output_type": "execute_result"
    }
   ],
   "source": [
    "s"
   ]
  },
  {
   "cell_type": "code",
   "execution_count": 29,
   "id": "6e59161b",
   "metadata": {},
   "outputs": [
    {
     "data": {
      "text/plain": [
       "True"
      ]
     },
     "execution_count": 29,
     "metadata": {},
     "output_type": "execute_result"
    }
   ],
   "source": [
    "s.isalnum()"
   ]
  },
  {
   "cell_type": "markdown",
   "id": "05c4a158",
   "metadata": {},
   "source": [
    "- isalnum that means it can be alphabet numberic "
   ]
  },
  {
   "cell_type": "code",
   "execution_count": 30,
   "id": "54982aa8",
   "metadata": {},
   "outputs": [
    {
     "data": {
      "text/plain": [
       "False"
      ]
     },
     "execution_count": 30,
     "metadata": {},
     "output_type": "execute_result"
    }
   ],
   "source": [
    "s.isnumeric()"
   ]
  },
  {
   "cell_type": "markdown",
   "id": "5978549f",
   "metadata": {},
   "source": [
    "- isnumeric means is all in numeriacl"
   ]
  },
  {
   "cell_type": "code",
   "execution_count": 31,
   "id": "34943835",
   "metadata": {},
   "outputs": [],
   "source": [
    "var1= \"20\""
   ]
  },
  {
   "cell_type": "code",
   "execution_count": 33,
   "id": "ef1411b9",
   "metadata": {},
   "outputs": [
    {
     "data": {
      "text/plain": [
       "True"
      ]
     },
     "execution_count": 33,
     "metadata": {},
     "output_type": "execute_result"
    }
   ],
   "source": [
    "var1.isnumeric()"
   ]
  },
  {
   "cell_type": "markdown",
   "id": "ed2cf21e",
   "metadata": {},
   "source": [
    "- var1 has numnerical values so it shows true "
   ]
  },
  {
   "cell_type": "code",
   "execution_count": 35,
   "id": "43d7964a",
   "metadata": {},
   "outputs": [
    {
     "data": {
      "text/plain": [
       "str"
      ]
     },
     "execution_count": 35,
     "metadata": {},
     "output_type": "execute_result"
    }
   ],
   "source": [
    "type(var1)"
   ]
  },
  {
   "cell_type": "code",
   "execution_count": 36,
   "id": "1a31419e",
   "metadata": {},
   "outputs": [],
   "source": [
    "var1=int(var1)"
   ]
  },
  {
   "cell_type": "code",
   "execution_count": 37,
   "id": "cb6d369d",
   "metadata": {},
   "outputs": [
    {
     "data": {
      "text/plain": [
       "int"
      ]
     },
     "execution_count": 37,
     "metadata": {},
     "output_type": "execute_result"
    }
   ],
   "source": [
    "type(var1)"
   ]
  },
  {
   "cell_type": "markdown",
   "id": "cb012337",
   "metadata": {},
   "source": [
    "- when you want to convet a peryicular type to another type multiply with the variable you want \n",
    " above case where we converted stg to int by int(var1), print(var1)"
   ]
  },
  {
   "cell_type": "code",
   "execution_count": 44,
   "id": "9fc36867",
   "metadata": {},
   "outputs": [],
   "source": [
    "var2= \"hello\""
   ]
  },
  {
   "cell_type": "code",
   "execution_count": 48,
   "id": "3187eb29",
   "metadata": {},
   "outputs": [
    {
     "data": {
      "text/plain": [
       "str"
      ]
     },
     "execution_count": 48,
     "metadata": {},
     "output_type": "execute_result"
    }
   ],
   "source": [
    "type(var2)"
   ]
  },
  {
   "cell_type": "code",
   "execution_count": 49,
   "id": "ca3ee701",
   "metadata": {
    "scrolled": true
   },
   "outputs": [
    {
     "ename": "ValueError",
     "evalue": "invalid literal for int() with base 10: 'hello'",
     "output_type": "error",
     "traceback": [
      "\u001b[0;31m---------------------------------------------------------------------------\u001b[0m",
      "\u001b[0;31mValueError\u001b[0m                                Traceback (most recent call last)",
      "Cell \u001b[0;32mIn[49], line 1\u001b[0m\n\u001b[0;32m----> 1\u001b[0m var2\u001b[38;5;241m=\u001b[39m\u001b[38;5;28;43mint\u001b[39;49m\u001b[43m(\u001b[49m\u001b[43mvar2\u001b[49m\u001b[43m)\u001b[49m\n\u001b[1;32m      2\u001b[0m \u001b[38;5;28mprint\u001b[39m(\u001b[38;5;28mtype\u001b[39m(var2))\n",
      "\u001b[0;31mValueError\u001b[0m: invalid literal for int() with base 10: 'hello'"
     ]
    }
   ],
   "source": [
    "var2=int(var2)\n",
    "print(type(var2))"
   ]
  },
  {
   "cell_type": "markdown",
   "id": "da2d4242",
   "metadata": {},
   "source": [
    "- the int in python converts string to int and returns the integer object value of the given string or floating number. If we do not give any parameter in the method, it will return 0. The exception raised by int in python is known as TypeError"
   ]
  },
  {
   "cell_type": "markdown",
   "id": "434b5a43",
   "metadata": {},
   "source": [
    "var2.isnumeric()"
   ]
  },
  {
   "cell_type": "markdown",
   "id": "d77c8d59",
   "metadata": {},
   "source": [
    "-where only numberic can be converted,  non numnerical cannot be converted"
   ]
  },
  {
   "cell_type": "markdown",
   "id": "f731a479",
   "metadata": {},
   "source": [
    "# SLICEING"
   ]
  },
  {
   "cell_type": "markdown",
   "id": "4f447caf",
   "metadata": {},
   "source": [
    "- Getting a subset/ substring in a string \n",
    "- syntex: startpos[starting position] , endpos[end position], stepsize\n",
    "- both startpos,endpos are excluded"
   ]
  },
  {
   "cell_type": "markdown",
   "id": "fa60c51d",
   "metadata": {},
   "source": [
    "- s:welcome extract WEL from s"
   ]
  },
  {
   "cell_type": "code",
   "execution_count": 54,
   "id": "a30bbdb0",
   "metadata": {},
   "outputs": [
    {
     "data": {
      "text/plain": [
       "'wel'"
      ]
     },
     "execution_count": 54,
     "metadata": {},
     "output_type": "execute_result"
    }
   ],
   "source": [
    "s[0:3]"
   ]
  },
  {
   "cell_type": "markdown",
   "id": "607f7a6b",
   "metadata": {},
   "source": [
    "- s = [0W 1E 2L] [3C] 4O 5M 6E we have to take one step before value of our needed valus "
   ]
  },
  {
   "cell_type": "code",
   "execution_count": 55,
   "id": "14344f98",
   "metadata": {},
   "outputs": [
    {
     "data": {
      "text/plain": [
       "'welco'"
      ]
     },
     "execution_count": 55,
     "metadata": {},
     "output_type": "execute_result"
    }
   ],
   "source": [
    "s[0:5]"
   ]
  },
  {
   "cell_type": "code",
   "execution_count": 56,
   "id": "b2053f3c",
   "metadata": {},
   "outputs": [
    {
     "data": {
      "text/plain": [
       "'wel'"
      ]
     },
     "execution_count": 56,
     "metadata": {},
     "output_type": "execute_result"
    }
   ],
   "source": [
    "s[:3]"
   ]
  },
  {
   "cell_type": "code",
   "execution_count": 57,
   "id": "d39f358b",
   "metadata": {},
   "outputs": [
    {
     "data": {
      "text/plain": [
       "'come'"
      ]
     },
     "execution_count": 57,
     "metadata": {},
     "output_type": "execute_result"
    }
   ],
   "source": [
    "s[3:]"
   ]
  },
  {
   "cell_type": "code",
   "execution_count": 59,
   "id": "cf0012f3",
   "metadata": {},
   "outputs": [
    {
     "data": {
      "text/plain": [
       "7"
      ]
     },
     "execution_count": 59,
     "metadata": {},
     "output_type": "execute_result"
    }
   ],
   "source": [
    "len(s)"
   ]
  },
  {
   "cell_type": "code",
   "execution_count": 60,
   "id": "5f922abe",
   "metadata": {},
   "outputs": [
    {
     "data": {
      "text/plain": [
       "'c'"
      ]
     },
     "execution_count": 60,
     "metadata": {},
     "output_type": "execute_result"
    }
   ],
   "source": [
    "s[3]"
   ]
  },
  {
   "cell_type": "code",
   "execution_count": 3,
   "id": "3e43a0d0",
   "metadata": {},
   "outputs": [
    {
     "data": {
      "text/plain": [
       "'come'"
      ]
     },
     "execution_count": 3,
     "metadata": {},
     "output_type": "execute_result"
    }
   ],
   "source": [
    "s[3:100]"
   ]
  },
  {
   "cell_type": "code",
   "execution_count": 4,
   "id": "162337bb",
   "metadata": {},
   "outputs": [
    {
     "data": {
      "text/plain": [
       "'wel'"
      ]
     },
     "execution_count": 4,
     "metadata": {},
     "output_type": "execute_result"
    }
   ],
   "source": [
    "s[-7:-4]"
   ]
  },
  {
   "cell_type": "markdown",
   "id": "b6031103",
   "metadata": {},
   "source": [
    "- according to nagative indexing \n"
   ]
  },
  {
   "cell_type": "code",
   "execution_count": 6,
   "id": "9b6355fc",
   "metadata": {},
   "outputs": [
    {
     "data": {
      "text/plain": [
       "'wel'"
      ]
     },
     "execution_count": 6,
     "metadata": {},
     "output_type": "execute_result"
    }
   ],
   "source": [
    "s[-100:3]"
   ]
  },
  {
   "cell_type": "markdown",
   "id": "c00d5f4a",
   "metadata": {},
   "source": [
    "- here taken both positive and nagitive index"
   ]
  },
  {
   "cell_type": "code",
   "execution_count": 7,
   "id": "6a148b29",
   "metadata": {},
   "outputs": [
    {
     "data": {
      "text/plain": [
       "'welcome'"
      ]
     },
     "execution_count": 7,
     "metadata": {},
     "output_type": "execute_result"
    }
   ],
   "source": [
    "s[:]"
   ]
  },
  {
   "cell_type": "markdown",
   "id": "3e52495e",
   "metadata": {},
   "source": [
    "- here indexing values are not given but both sw automaticall took both both startposotion and ending position"
   ]
  },
  {
   "cell_type": "code",
   "execution_count": 9,
   "id": "f0806e67",
   "metadata": {},
   "outputs": [
    {
     "data": {
      "text/plain": [
       "'wce'"
      ]
     },
     "execution_count": 9,
     "metadata": {},
     "output_type": "execute_result"
    }
   ],
   "source": [
    "s[: :3]"
   ]
  },
  {
   "cell_type": "markdown",
   "id": "c6c88a1e",
   "metadata": {},
   "source": [
    "- here it take stepsize it taken 1st one after two step then select one agin two steps "
   ]
  },
  {
   "cell_type": "code",
   "execution_count": 10,
   "id": "06af9c2c",
   "metadata": {},
   "outputs": [
    {
     "data": {
      "text/plain": [
       "'emoclew'"
      ]
     },
     "execution_count": 10,
     "metadata": {},
     "output_type": "execute_result"
    }
   ],
   "source": [
    "s[ : :-1]"
   ]
  },
  {
   "cell_type": "markdown",
   "id": "d07efb6b",
   "metadata": {},
   "source": [
    "- here -1 is starting point takeing as negative index and system takes automaticall given fully beacuse no positve index"
   ]
  },
  {
   "cell_type": "code",
   "execution_count": 11,
   "id": "d27f44bc",
   "metadata": {},
   "outputs": [
    {
     "data": {
      "text/plain": [
       "1"
      ]
     },
     "execution_count": 11,
     "metadata": {},
     "output_type": "execute_result"
    }
   ],
   "source": [
    "s.index(\"e\")"
   ]
  },
  {
   "cell_type": "code",
   "execution_count": 12,
   "id": "dc1bc1e1",
   "metadata": {},
   "outputs": [],
   "source": [
    "s_rev=s[ : :-1]"
   ]
  },
  {
   "cell_type": "code",
   "execution_count": 13,
   "id": "7ea36635",
   "metadata": {},
   "outputs": [
    {
     "data": {
      "text/plain": [
       "'emoclew'"
      ]
     },
     "execution_count": 13,
     "metadata": {},
     "output_type": "execute_result"
    }
   ],
   "source": [
    "s_rev"
   ]
  },
  {
   "cell_type": "markdown",
   "id": "d004febc",
   "metadata": {},
   "source": [
    "- here rev is reverse of given vaeiable where s[ : :-1]= emoclem ,, and where s_rev=emoclem"
   ]
  },
  {
   "cell_type": "markdown",
   "id": "38c90f97",
   "metadata": {},
   "source": [
    "#  CONCATENTION "
   ]
  },
  {
   "cell_type": "code",
   "execution_count": 16,
   "id": "48509aae",
   "metadata": {},
   "outputs": [
    {
     "data": {
      "text/plain": [
       "'welcome'"
      ]
     },
     "execution_count": 16,
     "metadata": {},
     "output_type": "execute_result"
    }
   ],
   "source": [
    "s"
   ]
  },
  {
   "cell_type": "code",
   "execution_count": 18,
   "id": "26bab0c0",
   "metadata": {},
   "outputs": [
    {
     "data": {
      "text/plain": [
       "'welcome10'"
      ]
     },
     "execution_count": 18,
     "metadata": {},
     "output_type": "execute_result"
    }
   ],
   "source": [
    "s+\"10\""
   ]
  },
  {
   "cell_type": "markdown",
   "id": "535414c0",
   "metadata": {},
   "source": [
    "- string concatention can be only when both variables are of same data types"
   ]
  },
  {
   "cell_type": "code",
   "execution_count": 19,
   "id": "16b5120c",
   "metadata": {},
   "outputs": [
    {
     "data": {
      "text/plain": [
       "20"
      ]
     },
     "execution_count": 19,
     "metadata": {},
     "output_type": "execute_result"
    }
   ],
   "source": [
    "10+10"
   ]
  },
  {
   "cell_type": "code",
   "execution_count": 21,
   "id": "76b51047",
   "metadata": {},
   "outputs": [
    {
     "data": {
      "text/plain": [
       "'welcomewelcomewelcomewelcomewelcomewelcomewelcomewelcomewelcomewelcome'"
      ]
     },
     "execution_count": 21,
     "metadata": {},
     "output_type": "execute_result"
    }
   ],
   "source": [
    "s*10"
   ]
  },
  {
   "cell_type": "markdown",
   "id": "a0ab1e13",
   "metadata": {},
   "source": [
    "# LISTS"
   ]
  },
  {
   "cell_type": "markdown",
   "id": "24714302",
   "metadata": {},
   "source": [
    "- Secoundary or container type \n",
    "- mutabilite\n",
    "- syntex:[ ] or list"
   ]
  },
  {
   "cell_type": "code",
   "execution_count": 22,
   "id": "f1d0f729",
   "metadata": {},
   "outputs": [],
   "source": [
    "languages=[\"c\",\"c++\",\"python\"]"
   ]
  },
  {
   "cell_type": "code",
   "execution_count": 23,
   "id": "a25ab3b7",
   "metadata": {},
   "outputs": [
    {
     "data": {
      "text/plain": [
       "list"
      ]
     },
     "execution_count": 23,
     "metadata": {},
     "output_type": "execute_result"
    }
   ],
   "source": [
    "type(languages)"
   ]
  },
  {
   "cell_type": "code",
   "execution_count": 25,
   "id": "9911ab6b",
   "metadata": {},
   "outputs": [
    {
     "data": {
      "text/plain": [
       "'c'"
      ]
     },
     "execution_count": 25,
     "metadata": {},
     "output_type": "execute_result"
    }
   ],
   "source": [
    "languages[0]"
   ]
  },
  {
   "cell_type": "code",
   "execution_count": 26,
   "id": "303610fa",
   "metadata": {},
   "outputs": [
    {
     "data": {
      "text/plain": [
       "3"
      ]
     },
     "execution_count": 26,
     "metadata": {},
     "output_type": "execute_result"
    }
   ],
   "source": [
    "len(languages)"
   ]
  },
  {
   "cell_type": "code",
   "execution_count": 28,
   "id": "70f861cb",
   "metadata": {},
   "outputs": [
    {
     "data": {
      "text/plain": [
       "'python'"
      ]
     },
     "execution_count": 28,
     "metadata": {},
     "output_type": "execute_result"
    }
   ],
   "source": [
    "languages[-1]"
   ]
  },
  {
   "cell_type": "code",
   "execution_count": 31,
   "id": "dfb1c5a5",
   "metadata": {},
   "outputs": [
    {
     "data": {
      "text/plain": [
       "['c++', 'python']"
      ]
     },
     "execution_count": 31,
     "metadata": {},
     "output_type": "execute_result"
    }
   ],
   "source": [
    "languages[1:3]"
   ]
  },
  {
   "cell_type": "code",
   "execution_count": 34,
   "id": "e3d4af37",
   "metadata": {},
   "outputs": [
    {
     "data": {
      "text/plain": [
       "'y'"
      ]
     },
     "execution_count": 34,
     "metadata": {},
     "output_type": "execute_result"
    }
   ],
   "source": [
    "languages[2][1]"
   ]
  },
  {
   "cell_type": "code",
   "execution_count": 40,
   "id": "eac191e6",
   "metadata": {},
   "outputs": [
    {
     "data": {
      "text/plain": [
       "['c', 'c++', 'python', 10, True]"
      ]
     },
     "execution_count": 40,
     "metadata": {},
     "output_type": "execute_result"
    }
   ],
   "source": [
    "languages+[10]+[True]\n"
   ]
  },
  {
   "cell_type": "code",
   "execution_count": null,
   "id": "6f4b35e2",
   "metadata": {},
   "outputs": [],
   "source": []
  },
  {
   "cell_type": "code",
   "execution_count": null,
   "id": "eded283e",
   "metadata": {},
   "outputs": [],
   "source": []
  }
 ],
 "metadata": {
  "kernelspec": {
   "display_name": "Python 3 (ipykernel)",
   "language": "python",
   "name": "python3"
  },
  "language_info": {
   "codemirror_mode": {
    "name": "ipython",
    "version": 3
   },
   "file_extension": ".py",
   "mimetype": "text/x-python",
   "name": "python",
   "nbconvert_exporter": "python",
   "pygments_lexer": "ipython3",
   "version": "3.11.5"
  }
 },
 "nbformat": 4,
 "nbformat_minor": 5
}
